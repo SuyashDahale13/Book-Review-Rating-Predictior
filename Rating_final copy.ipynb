{
  "cells": [
    {
      "cell_type": "code",
      "execution_count": null,
      "metadata": {
        "id": "7HbXxKfId6Fw"
      },
      "outputs": [],
      "source": [
        "# Work with a dataset of book reviews, and build a model that can predict the rating of a review,\n",
        "# ranging from 0-5."
      ]
    },
    {
      "cell_type": "code",
      "execution_count": 1,
      "metadata": {
        "id": "nmph3-95d6Fy"
      },
      "outputs": [],
      "source": [
        "# Importing necessary libraries.\n",
        "import pandas as pd\n",
        "import numpy as np\n",
        "import nltk\n",
        "import string\n",
        "import matplotlib.pyplot as plt\n",
        "# import spacy\n",
        "from nltk.corpus import stopwords\n",
        "from nltk.stem.porter import PorterStemmer\n",
        "from wordcloud import WordCloud\n",
        "from collections import Counter\n",
        "from nltk.stem import WordNetLemmatizer"
      ]
    },
    {
      "cell_type": "code",
      "execution_count": null,
      "metadata": {
        "id": "ZOeB-NT6d6Fy"
      },
      "outputs": [],
      "source": [
        "df = pd.read_csv('train.csv' , on_bad_lines='skip')"
      ]
    },
    {
      "cell_type": "markdown",
      "metadata": {
        "id": "cFHAo2KZd6Fz"
      },
      "source": [
        "# EDA"
      ]
    },
    {
      "cell_type": "code",
      "execution_count": null,
      "metadata": {
        "id": "iVs78uJtd6F0",
        "outputId": "3d77870d-34cd-4cab-ef0e-4af53e2978de"
      },
      "outputs": [
        {
          "data": {
            "text/html": [
              "<div>\n",
              "<style scoped>\n",
              "    .dataframe tbody tr th:only-of-type {\n",
              "        vertical-align: middle;\n",
              "    }\n",
              "\n",
              "    .dataframe tbody tr th {\n",
              "        vertical-align: top;\n",
              "    }\n",
              "\n",
              "    .dataframe thead th {\n",
              "        text-align: right;\n",
              "    }\n",
              "</style>\n",
              "<table border=\"1\" class=\"dataframe\">\n",
              "  <thead>\n",
              "    <tr style=\"text-align: right;\">\n",
              "      <th></th>\n",
              "      <th>user_id</th>\n",
              "      <th>book_id</th>\n",
              "      <th>review_id</th>\n",
              "      <th>review_text</th>\n",
              "      <th>date_added</th>\n",
              "      <th>date_updated</th>\n",
              "      <th>read_at</th>\n",
              "      <th>started_at</th>\n",
              "      <th>n_votes</th>\n",
              "      <th>n_comments</th>\n",
              "      <th>rating</th>\n",
              "    </tr>\n",
              "  </thead>\n",
              "  <tbody>\n",
              "    <tr>\n",
              "      <th>0</th>\n",
              "      <td>1c845473e18c23f917126cb29bc8d243</td>\n",
              "      <td>6547260</td>\n",
              "      <td>5805e560deacf886537b2e76b2653515</td>\n",
              "      <td>I finished this in two days. THIS SERIES IS JU...</td>\n",
              "      <td>Sat Nov 16 00:26:42 -0800 2013</td>\n",
              "      <td>Mon Jan 26 11:14:39 -0800 2015</td>\n",
              "      <td>Mon Jan 26 11:14:39 -0800 2015</td>\n",
              "      <td>Sat Jan 24 00:00:00 -0800 2015</td>\n",
              "      <td>0</td>\n",
              "      <td>0</td>\n",
              "      <td>5</td>\n",
              "    </tr>\n",
              "    <tr>\n",
              "      <th>1</th>\n",
              "      <td>0867fa7e18da1a292d0256fad0ee4e31</td>\n",
              "      <td>17201095</td>\n",
              "      <td>84c2e89581004bedd01dea2833bed181</td>\n",
              "      <td>Review to follow \\n Goodreads 4 \\n Amazon 5 \\n...</td>\n",
              "      <td>Wed Jan 02 11:22:44 -0800 2013</td>\n",
              "      <td>Sun Apr 28 20:23:22 -0700 2013</td>\n",
              "      <td>NaN</td>\n",
              "      <td>NaN</td>\n",
              "      <td>0</td>\n",
              "      <td>0</td>\n",
              "      <td>5</td>\n",
              "    </tr>\n",
              "    <tr>\n",
              "      <th>2</th>\n",
              "      <td>a57237ef712461148672852d8f47e300</td>\n",
              "      <td>16143347</td>\n",
              "      <td>956d4ea003698d83c1495cc251be5bc0</td>\n",
              "      <td>I will have a full review up eventually but fo...</td>\n",
              "      <td>Thu Jun 19 15:48:04 -0700 2014</td>\n",
              "      <td>Thu May 05 09:09:58 -0700 2016</td>\n",
              "      <td>Thu Jun 19 00:00:00 -0700 2014</td>\n",
              "      <td>Thu Jun 19 00:00:00 -0700 2014</td>\n",
              "      <td>0</td>\n",
              "      <td>0</td>\n",
              "      <td>5</td>\n",
              "    </tr>\n",
              "    <tr>\n",
              "      <th>3</th>\n",
              "      <td>80589c77f4fa826eaaf7c5d71ff3b81e</td>\n",
              "      <td>7863423</td>\n",
              "      <td>e5ed7e0401cbe5c44e7b7ee4e1af4f09</td>\n",
              "      <td>4 stars. Aww! I loved this one! I have read th...</td>\n",
              "      <td>Wed Sep 16 18:52:06 -0700 2015</td>\n",
              "      <td>Sun Sep 20 18:34:34 -0700 2015</td>\n",
              "      <td>Sun Sep 20 00:00:00 -0700 2015</td>\n",
              "      <td>Sat Sep 19 00:00:00 -0700 2015</td>\n",
              "      <td>1</td>\n",
              "      <td>0</td>\n",
              "      <td>4</td>\n",
              "    </tr>\n",
              "    <tr>\n",
              "      <th>4</th>\n",
              "      <td>916977f433fbf96ae9de9669f8aec040</td>\n",
              "      <td>17262303</td>\n",
              "      <td>51b4449f83ff8c9d13a3b6aa2df4fb27</td>\n",
              "      <td>this is official: Patrick Ness is my fav author</td>\n",
              "      <td>Sun Oct 13 11:47:17 -0700 2013</td>\n",
              "      <td>Mon Sep 15 17:51:03 -0700 2014</td>\n",
              "      <td>Tue Sep 16 17:51:03 -0700 2014</td>\n",
              "      <td>NaN</td>\n",
              "      <td>0</td>\n",
              "      <td>0</td>\n",
              "      <td>5</td>\n",
              "    </tr>\n",
              "  </tbody>\n",
              "</table>\n",
              "</div>"
            ],
            "text/plain": [
              "                            user_id   book_id  \\\n",
              "0  1c845473e18c23f917126cb29bc8d243   6547260   \n",
              "1  0867fa7e18da1a292d0256fad0ee4e31  17201095   \n",
              "2  a57237ef712461148672852d8f47e300  16143347   \n",
              "3  80589c77f4fa826eaaf7c5d71ff3b81e   7863423   \n",
              "4  916977f433fbf96ae9de9669f8aec040  17262303   \n",
              "\n",
              "                          review_id  \\\n",
              "0  5805e560deacf886537b2e76b2653515   \n",
              "1  84c2e89581004bedd01dea2833bed181   \n",
              "2  956d4ea003698d83c1495cc251be5bc0   \n",
              "3  e5ed7e0401cbe5c44e7b7ee4e1af4f09   \n",
              "4  51b4449f83ff8c9d13a3b6aa2df4fb27   \n",
              "\n",
              "                                         review_text  \\\n",
              "0  I finished this in two days. THIS SERIES IS JU...   \n",
              "1  Review to follow \\n Goodreads 4 \\n Amazon 5 \\n...   \n",
              "2  I will have a full review up eventually but fo...   \n",
              "3  4 stars. Aww! I loved this one! I have read th...   \n",
              "4    this is official: Patrick Ness is my fav author   \n",
              "\n",
              "                       date_added                    date_updated  \\\n",
              "0  Sat Nov 16 00:26:42 -0800 2013  Mon Jan 26 11:14:39 -0800 2015   \n",
              "1  Wed Jan 02 11:22:44 -0800 2013  Sun Apr 28 20:23:22 -0700 2013   \n",
              "2  Thu Jun 19 15:48:04 -0700 2014  Thu May 05 09:09:58 -0700 2016   \n",
              "3  Wed Sep 16 18:52:06 -0700 2015  Sun Sep 20 18:34:34 -0700 2015   \n",
              "4  Sun Oct 13 11:47:17 -0700 2013  Mon Sep 15 17:51:03 -0700 2014   \n",
              "\n",
              "                          read_at                      started_at  n_votes  \\\n",
              "0  Mon Jan 26 11:14:39 -0800 2015  Sat Jan 24 00:00:00 -0800 2015        0   \n",
              "1                             NaN                             NaN        0   \n",
              "2  Thu Jun 19 00:00:00 -0700 2014  Thu Jun 19 00:00:00 -0700 2014        0   \n",
              "3  Sun Sep 20 00:00:00 -0700 2015  Sat Sep 19 00:00:00 -0700 2015        1   \n",
              "4  Tue Sep 16 17:51:03 -0700 2014                             NaN        0   \n",
              "\n",
              "   n_comments  rating  \n",
              "0           0       5  \n",
              "1           0       5  \n",
              "2           0       5  \n",
              "3           0       4  \n",
              "4           0       5  "
            ]
          },
          "execution_count": 4,
          "metadata": {},
          "output_type": "execute_result"
        }
      ],
      "source": [
        "# How does the data look like ?\n",
        "df.head()"
      ]
    },
    {
      "cell_type": "code",
      "execution_count": null,
      "metadata": {
        "id": "w_bX7ciEd6F1",
        "outputId": "3d111c2a-7545-40b3-bd6a-fee18e684f0c"
      },
      "outputs": [
        {
          "data": {
            "text/plain": [
              "(630000, 11)"
            ]
          },
          "execution_count": 5,
          "metadata": {},
          "output_type": "execute_result"
        }
      ],
      "source": [
        "# How big is the data ?\n",
        "df.shape"
      ]
    },
    {
      "cell_type": "code",
      "execution_count": null,
      "metadata": {
        "id": "UMdLNLfMd6F1",
        "outputId": "583f0b69-9309-4eb9-d53e-e5c716a3f283"
      },
      "outputs": [
        {
          "name": "stdout",
          "output_type": "stream",
          "text": [
            "<class 'pandas.core.frame.DataFrame'>\n",
            "RangeIndex: 630000 entries, 0 to 629999\n",
            "Data columns (total 11 columns):\n",
            " #   Column        Non-Null Count   Dtype \n",
            "---  ------        --------------   ----- \n",
            " 0   user_id       630000 non-null  object\n",
            " 1   book_id       630000 non-null  int64 \n",
            " 2   review_id     630000 non-null  object\n",
            " 3   review_text   630000 non-null  object\n",
            " 4   date_added    630000 non-null  object\n",
            " 5   date_updated  630000 non-null  object\n",
            " 6   read_at       565775 non-null  object\n",
            " 7   started_at    437963 non-null  object\n",
            " 8   n_votes       630000 non-null  int64 \n",
            " 9   n_comments    630000 non-null  int64 \n",
            " 10  rating        630000 non-null  int64 \n",
            "dtypes: int64(4), object(7)\n",
            "memory usage: 52.9+ MB\n"
          ]
        }
      ],
      "source": [
        "# What is the data type of given columns ?\n",
        "df.info()"
      ]
    },
    {
      "cell_type": "code",
      "execution_count": null,
      "metadata": {
        "id": "oJz5RgLvd6F1"
      },
      "outputs": [],
      "source": [
        "# According to the question considering only review & rating colums for further analysis.\n",
        "df = df.iloc[:,[3,10]]"
      ]
    },
    {
      "cell_type": "code",
      "execution_count": null,
      "metadata": {
        "id": "b5bAUevcd6F2",
        "outputId": "1a0f8c49-42a0-400b-c142-596d06e23d2c"
      },
      "outputs": [
        {
          "data": {
            "text/html": [
              "<div>\n",
              "<style scoped>\n",
              "    .dataframe tbody tr th:only-of-type {\n",
              "        vertical-align: middle;\n",
              "    }\n",
              "\n",
              "    .dataframe tbody tr th {\n",
              "        vertical-align: top;\n",
              "    }\n",
              "\n",
              "    .dataframe thead th {\n",
              "        text-align: right;\n",
              "    }\n",
              "</style>\n",
              "<table border=\"1\" class=\"dataframe\">\n",
              "  <thead>\n",
              "    <tr style=\"text-align: right;\">\n",
              "      <th></th>\n",
              "      <th>review_text</th>\n",
              "      <th>rating</th>\n",
              "    </tr>\n",
              "  </thead>\n",
              "  <tbody>\n",
              "    <tr>\n",
              "      <th>0</th>\n",
              "      <td>I finished this in two days. THIS SERIES IS JU...</td>\n",
              "      <td>5</td>\n",
              "    </tr>\n",
              "    <tr>\n",
              "      <th>1</th>\n",
              "      <td>Review to follow \\n Goodreads 4 \\n Amazon 5 \\n...</td>\n",
              "      <td>5</td>\n",
              "    </tr>\n",
              "    <tr>\n",
              "      <th>2</th>\n",
              "      <td>I will have a full review up eventually but fo...</td>\n",
              "      <td>5</td>\n",
              "    </tr>\n",
              "    <tr>\n",
              "      <th>3</th>\n",
              "      <td>4 stars. Aww! I loved this one! I have read th...</td>\n",
              "      <td>4</td>\n",
              "    </tr>\n",
              "    <tr>\n",
              "      <th>4</th>\n",
              "      <td>this is official: Patrick Ness is my fav author</td>\n",
              "      <td>5</td>\n",
              "    </tr>\n",
              "  </tbody>\n",
              "</table>\n",
              "</div>"
            ],
            "text/plain": [
              "                                         review_text  rating\n",
              "0  I finished this in two days. THIS SERIES IS JU...       5\n",
              "1  Review to follow \\n Goodreads 4 \\n Amazon 5 \\n...       5\n",
              "2  I will have a full review up eventually but fo...       5\n",
              "3  4 stars. Aww! I loved this one! I have read th...       4\n",
              "4    this is official: Patrick Ness is my fav author       5"
            ]
          },
          "execution_count": 8,
          "metadata": {},
          "output_type": "execute_result"
        }
      ],
      "source": [
        "df.head()"
      ]
    },
    {
      "cell_type": "code",
      "execution_count": null,
      "metadata": {
        "id": "FyTZBaazd6F2",
        "outputId": "eee9ead6-ab1d-4b4c-a8fb-eba27f5f4c12"
      },
      "outputs": [
        {
          "data": {
            "text/html": [
              "<div>\n",
              "<style scoped>\n",
              "    .dataframe tbody tr th:only-of-type {\n",
              "        vertical-align: middle;\n",
              "    }\n",
              "\n",
              "    .dataframe tbody tr th {\n",
              "        vertical-align: top;\n",
              "    }\n",
              "\n",
              "    .dataframe thead th {\n",
              "        text-align: right;\n",
              "    }\n",
              "</style>\n",
              "<table border=\"1\" class=\"dataframe\">\n",
              "  <thead>\n",
              "    <tr style=\"text-align: right;\">\n",
              "      <th></th>\n",
              "      <th>review_text</th>\n",
              "      <th>rating</th>\n",
              "      <th>num_characters</th>\n",
              "    </tr>\n",
              "  </thead>\n",
              "  <tbody>\n",
              "    <tr>\n",
              "      <th>0</th>\n",
              "      <td>I finished this in two days. THIS SERIES IS JU...</td>\n",
              "      <td>5</td>\n",
              "      <td>90</td>\n",
              "    </tr>\n",
              "    <tr>\n",
              "      <th>1</th>\n",
              "      <td>Review to follow \\n Goodreads 4 \\n Amazon 5 \\n...</td>\n",
              "      <td>5</td>\n",
              "      <td>55</td>\n",
              "    </tr>\n",
              "    <tr>\n",
              "      <th>2</th>\n",
              "      <td>I will have a full review up eventually but fo...</td>\n",
              "      <td>5</td>\n",
              "      <td>1874</td>\n",
              "    </tr>\n",
              "    <tr>\n",
              "      <th>3</th>\n",
              "      <td>4 stars. Aww! I loved this one! I have read th...</td>\n",
              "      <td>4</td>\n",
              "      <td>858</td>\n",
              "    </tr>\n",
              "    <tr>\n",
              "      <th>4</th>\n",
              "      <td>this is official: Patrick Ness is my fav author</td>\n",
              "      <td>5</td>\n",
              "      <td>47</td>\n",
              "    </tr>\n",
              "  </tbody>\n",
              "</table>\n",
              "</div>"
            ],
            "text/plain": [
              "                                         review_text  rating  num_characters\n",
              "0  I finished this in two days. THIS SERIES IS JU...       5              90\n",
              "1  Review to follow \\n Goodreads 4 \\n Amazon 5 \\n...       5              55\n",
              "2  I will have a full review up eventually but fo...       5            1874\n",
              "3  4 stars. Aww! I loved this one! I have read th...       4             858\n",
              "4    this is official: Patrick Ness is my fav author       5              47"
            ]
          },
          "execution_count": 9,
          "metadata": {},
          "output_type": "execute_result"
        }
      ],
      "source": [
        "# Number of characters in a review.\n",
        "df['num_characters'] = df['review_text'].apply(len)\n",
        "df.head()"
      ]
    },
    {
      "cell_type": "code",
      "execution_count": null,
      "metadata": {
        "id": "TFZLUw5ld6F2",
        "outputId": "8e15d8e1-a82c-46ad-f6ca-8f8bfd70640b"
      },
      "outputs": [
        {
          "data": {
            "text/html": [
              "<div>\n",
              "<style scoped>\n",
              "    .dataframe tbody tr th:only-of-type {\n",
              "        vertical-align: middle;\n",
              "    }\n",
              "\n",
              "    .dataframe tbody tr th {\n",
              "        vertical-align: top;\n",
              "    }\n",
              "\n",
              "    .dataframe thead th {\n",
              "        text-align: right;\n",
              "    }\n",
              "</style>\n",
              "<table border=\"1\" class=\"dataframe\">\n",
              "  <thead>\n",
              "    <tr style=\"text-align: right;\">\n",
              "      <th></th>\n",
              "      <th>review_text</th>\n",
              "      <th>rating</th>\n",
              "      <th>num_characters</th>\n",
              "      <th>num_words</th>\n",
              "    </tr>\n",
              "  </thead>\n",
              "  <tbody>\n",
              "    <tr>\n",
              "      <th>0</th>\n",
              "      <td>I finished this in two days. THIS SERIES IS JU...</td>\n",
              "      <td>5</td>\n",
              "      <td>90</td>\n",
              "      <td>23</td>\n",
              "    </tr>\n",
              "    <tr>\n",
              "      <th>1</th>\n",
              "      <td>Review to follow \\n Goodreads 4 \\n Amazon 5 \\n...</td>\n",
              "      <td>5</td>\n",
              "      <td>55</td>\n",
              "      <td>9</td>\n",
              "    </tr>\n",
              "    <tr>\n",
              "      <th>2</th>\n",
              "      <td>I will have a full review up eventually but fo...</td>\n",
              "      <td>5</td>\n",
              "      <td>1874</td>\n",
              "      <td>410</td>\n",
              "    </tr>\n",
              "    <tr>\n",
              "      <th>3</th>\n",
              "      <td>4 stars. Aww! I loved this one! I have read th...</td>\n",
              "      <td>4</td>\n",
              "      <td>858</td>\n",
              "      <td>193</td>\n",
              "    </tr>\n",
              "    <tr>\n",
              "      <th>4</th>\n",
              "      <td>this is official: Patrick Ness is my fav author</td>\n",
              "      <td>5</td>\n",
              "      <td>47</td>\n",
              "      <td>10</td>\n",
              "    </tr>\n",
              "  </tbody>\n",
              "</table>\n",
              "</div>"
            ],
            "text/plain": [
              "                                         review_text  rating  num_characters  \\\n",
              "0  I finished this in two days. THIS SERIES IS JU...       5              90   \n",
              "1  Review to follow \\n Goodreads 4 \\n Amazon 5 \\n...       5              55   \n",
              "2  I will have a full review up eventually but fo...       5            1874   \n",
              "3  4 stars. Aww! I loved this one! I have read th...       4             858   \n",
              "4    this is official: Patrick Ness is my fav author       5              47   \n",
              "\n",
              "   num_words  \n",
              "0         23  \n",
              "1          9  \n",
              "2        410  \n",
              "3        193  \n",
              "4         10  "
            ]
          },
          "execution_count": 10,
          "metadata": {},
          "output_type": "execute_result"
        }
      ],
      "source": [
        "# Number of words in a review.\n",
        "df['num_words']=df['review_text'].apply(lambda x:len(nltk.word_tokenize(x)))\n",
        "df.head()"
      ]
    },
    {
      "cell_type": "code",
      "execution_count": null,
      "metadata": {
        "id": "Zj1s5aNGd6F2",
        "outputId": "9bb17903-2877-48c5-f073-92a1ed124221"
      },
      "outputs": [
        {
          "data": {
            "text/html": [
              "<div>\n",
              "<style scoped>\n",
              "    .dataframe tbody tr th:only-of-type {\n",
              "        vertical-align: middle;\n",
              "    }\n",
              "\n",
              "    .dataframe tbody tr th {\n",
              "        vertical-align: top;\n",
              "    }\n",
              "\n",
              "    .dataframe thead th {\n",
              "        text-align: right;\n",
              "    }\n",
              "</style>\n",
              "<table border=\"1\" class=\"dataframe\">\n",
              "  <thead>\n",
              "    <tr style=\"text-align: right;\">\n",
              "      <th></th>\n",
              "      <th>review_text</th>\n",
              "      <th>rating</th>\n",
              "      <th>num_characters</th>\n",
              "      <th>num_words</th>\n",
              "      <th>num_sentences</th>\n",
              "    </tr>\n",
              "  </thead>\n",
              "  <tbody>\n",
              "    <tr>\n",
              "      <th>0</th>\n",
              "      <td>I finished this in two days. THIS SERIES IS JU...</td>\n",
              "      <td>5</td>\n",
              "      <td>90</td>\n",
              "      <td>23</td>\n",
              "      <td>4</td>\n",
              "    </tr>\n",
              "    <tr>\n",
              "      <th>1</th>\n",
              "      <td>Review to follow \\n Goodreads 4 \\n Amazon 5 \\n...</td>\n",
              "      <td>5</td>\n",
              "      <td>55</td>\n",
              "      <td>9</td>\n",
              "      <td>1</td>\n",
              "    </tr>\n",
              "    <tr>\n",
              "      <th>2</th>\n",
              "      <td>I will have a full review up eventually but fo...</td>\n",
              "      <td>5</td>\n",
              "      <td>1874</td>\n",
              "      <td>410</td>\n",
              "      <td>26</td>\n",
              "    </tr>\n",
              "    <tr>\n",
              "      <th>3</th>\n",
              "      <td>4 stars. Aww! I loved this one! I have read th...</td>\n",
              "      <td>4</td>\n",
              "      <td>858</td>\n",
              "      <td>193</td>\n",
              "      <td>15</td>\n",
              "    </tr>\n",
              "    <tr>\n",
              "      <th>4</th>\n",
              "      <td>this is official: Patrick Ness is my fav author</td>\n",
              "      <td>5</td>\n",
              "      <td>47</td>\n",
              "      <td>10</td>\n",
              "      <td>1</td>\n",
              "    </tr>\n",
              "  </tbody>\n",
              "</table>\n",
              "</div>"
            ],
            "text/plain": [
              "                                         review_text  rating  num_characters  \\\n",
              "0  I finished this in two days. THIS SERIES IS JU...       5              90   \n",
              "1  Review to follow \\n Goodreads 4 \\n Amazon 5 \\n...       5              55   \n",
              "2  I will have a full review up eventually but fo...       5            1874   \n",
              "3  4 stars. Aww! I loved this one! I have read th...       4             858   \n",
              "4    this is official: Patrick Ness is my fav author       5              47   \n",
              "\n",
              "   num_words  num_sentences  \n",
              "0         23              4  \n",
              "1          9              1  \n",
              "2        410             26  \n",
              "3        193             15  \n",
              "4         10              1  "
            ]
          },
          "execution_count": 11,
          "metadata": {},
          "output_type": "execute_result"
        }
      ],
      "source": [
        "# Number of sentences in a review.\n",
        "df['num_sentences'] = df['review_text'].apply(lambda x:len(nltk.sent_tokenize(x)))\n",
        "df.head()"
      ]
    },
    {
      "cell_type": "code",
      "execution_count": null,
      "metadata": {
        "id": "Kt2YuhyEd6F3",
        "outputId": "aa572ce8-11c6-4043-d138-a11c1e52090a"
      },
      "outputs": [
        {
          "data": {
            "text/html": [
              "<div>\n",
              "<style scoped>\n",
              "    .dataframe tbody tr th:only-of-type {\n",
              "        vertical-align: middle;\n",
              "    }\n",
              "\n",
              "    .dataframe tbody tr th {\n",
              "        vertical-align: top;\n",
              "    }\n",
              "\n",
              "    .dataframe thead th {\n",
              "        text-align: right;\n",
              "    }\n",
              "</style>\n",
              "<table border=\"1\" class=\"dataframe\">\n",
              "  <thead>\n",
              "    <tr style=\"text-align: right;\">\n",
              "      <th></th>\n",
              "      <th>rating</th>\n",
              "      <th>num_characters</th>\n",
              "      <th>num_words</th>\n",
              "      <th>num_sentences</th>\n",
              "    </tr>\n",
              "  </thead>\n",
              "  <tbody>\n",
              "    <tr>\n",
              "      <th>count</th>\n",
              "      <td>630000.000000</td>\n",
              "      <td>630000.000000</td>\n",
              "      <td>630000.000000</td>\n",
              "      <td>630000.000000</td>\n",
              "    </tr>\n",
              "    <tr>\n",
              "      <th>mean</th>\n",
              "      <td>3.689635</td>\n",
              "      <td>1064.061694</td>\n",
              "      <td>224.469729</td>\n",
              "      <td>12.282456</td>\n",
              "    </tr>\n",
              "    <tr>\n",
              "      <th>std</th>\n",
              "      <td>1.252588</td>\n",
              "      <td>1251.305052</td>\n",
              "      <td>262.428895</td>\n",
              "      <td>14.035273</td>\n",
              "    </tr>\n",
              "    <tr>\n",
              "      <th>min</th>\n",
              "      <td>0.000000</td>\n",
              "      <td>2.000000</td>\n",
              "      <td>1.000000</td>\n",
              "      <td>1.000000</td>\n",
              "    </tr>\n",
              "    <tr>\n",
              "      <th>25%</th>\n",
              "      <td>3.000000</td>\n",
              "      <td>219.000000</td>\n",
              "      <td>47.000000</td>\n",
              "      <td>3.000000</td>\n",
              "    </tr>\n",
              "    <tr>\n",
              "      <th>50%</th>\n",
              "      <td>4.000000</td>\n",
              "      <td>604.000000</td>\n",
              "      <td>128.000000</td>\n",
              "      <td>7.000000</td>\n",
              "    </tr>\n",
              "    <tr>\n",
              "      <th>75%</th>\n",
              "      <td>5.000000</td>\n",
              "      <td>1462.000000</td>\n",
              "      <td>308.000000</td>\n",
              "      <td>16.000000</td>\n",
              "    </tr>\n",
              "    <tr>\n",
              "      <th>max</th>\n",
              "      <td>5.000000</td>\n",
              "      <td>19826.000000</td>\n",
              "      <td>4019.000000</td>\n",
              "      <td>150.000000</td>\n",
              "    </tr>\n",
              "  </tbody>\n",
              "</table>\n",
              "</div>"
            ],
            "text/plain": [
              "              rating  num_characters      num_words  num_sentences\n",
              "count  630000.000000   630000.000000  630000.000000  630000.000000\n",
              "mean        3.689635     1064.061694     224.469729      12.282456\n",
              "std         1.252588     1251.305052     262.428895      14.035273\n",
              "min         0.000000        2.000000       1.000000       1.000000\n",
              "25%         3.000000      219.000000      47.000000       3.000000\n",
              "50%         4.000000      604.000000     128.000000       7.000000\n",
              "75%         5.000000     1462.000000     308.000000      16.000000\n",
              "max         5.000000    19826.000000    4019.000000     150.000000"
            ]
          },
          "execution_count": 12,
          "metadata": {},
          "output_type": "execute_result"
        }
      ],
      "source": [
        "df.describe() # To get the idea of lenth of reviews i.e. maximum, minimum length of review."
      ]
    },
    {
      "cell_type": "markdown",
      "metadata": {
        "id": "rXOgnmRpd6F3"
      },
      "source": [
        "# Data preprocessing\n",
        "- Lower case\n",
        "- Tokenization\n",
        "- Removing Special Characters\n",
        "- Removing Stop Words and Punctuation\n",
        "- Stemming / Lemmentization"
      ]
    },
    {
      "cell_type": "code",
      "execution_count": null,
      "metadata": {
        "id": "FxhmjKgod6F3"
      },
      "outputs": [],
      "source": [
        "# Data preprocessing contains all steps written above. But for this perticualr dataset\n",
        "# countvectorizer & tfidfvectorizer will not work because dataset is huge (In my several trails i found\n",
        "# that converting sparse metrix to a dence np.array was memory demanding and because of high\n",
        "# dimensionality it will be computaionally heavy task.), So I opted for Word2Vec method.\n",
        "# Benifits of Word2Vec - 1. Semantic meaning of words 2. Low dimensions 3. Dense Vector\n",
        "# Again in my several trails i found that Word2Vec was working relatively better without stemming or Lemmentization."
      ]
    },
    {
      "cell_type": "code",
      "execution_count": 2,
      "metadata": {
        "id": "Ij8yKDBEd6F3"
      },
      "outputs": [],
      "source": [
        "def transform_text(text):\n",
        "    text = text.lower() # Lowercasing:Convert all text to lowercase to ensure consistency.\n",
        "    text = nltk.word_tokenize(text) # Tokenization:Tokenize the text into individual words or phrases.\n",
        "\n",
        "    y = []\n",
        "    for i in text :\n",
        "        if i.isalpha(): # Keeping only alphabetical words.\n",
        "            y.append(i)\n",
        "    text = y[:]\n",
        "    y.clear()\n",
        "\n",
        "    for i in text:\n",
        "        if i not in stopwords.words('english') and i not in string.punctuation: # Removing Stopwords.\n",
        "            y.append(i)\n",
        "    return \" \".join(y)"
      ]
    },
    {
      "cell_type": "code",
      "execution_count": null,
      "metadata": {
        "id": "YU2D4gyQd6F3"
      },
      "outputs": [],
      "source": [
        "# Review_text transformation with the help of above written function. (# ~ 2 hours to complete this.)\n",
        "df['transformed_review'] = df['review_text'].apply(transform_text)"
      ]
    },
    {
      "cell_type": "code",
      "execution_count": null,
      "metadata": {
        "id": "Z-0_Wjkod6F4",
        "outputId": "c08eedbb-4fbf-45d5-c26c-8f8485a21268"
      },
      "outputs": [
        {
          "name": "stdout",
          "output_type": "stream",
          "text": [
            "<class 'pandas.core.frame.DataFrame'>\n",
            "RangeIndex: 630000 entries, 0 to 629999\n",
            "Data columns (total 6 columns):\n",
            " #   Column              Non-Null Count   Dtype \n",
            "---  ------              --------------   ----- \n",
            " 0   review_text         630000 non-null  object\n",
            " 1   rating              630000 non-null  int64 \n",
            " 2   num_characters      630000 non-null  int64 \n",
            " 3   num_words           630000 non-null  int64 \n",
            " 4   num_sentences       630000 non-null  int64 \n",
            " 5   transformed_review  630000 non-null  object\n",
            "dtypes: int64(4), object(2)\n",
            "memory usage: 28.8+ MB\n"
          ]
        }
      ],
      "source": [
        "df.info()"
      ]
    },
    {
      "cell_type": "code",
      "execution_count": null,
      "metadata": {
        "id": "lL-YTHqbd6F4"
      },
      "outputs": [],
      "source": [
        "# Saving the dataset with transformed_review if in case jupyiter kernel crashes.(precaution)\n",
        "df.to_csv('nonlemm_alpha#.csv')"
      ]
    },
    {
      "cell_type": "code",
      "execution_count": 31,
      "metadata": {
        "id": "TZMAoN4Wd6F4"
      },
      "outputs": [],
      "source": [
        "# Reading the saved data set\n",
        "df = pd.read_csv('nonlemm_alpha#.csv')"
      ]
    },
    {
      "cell_type": "code",
      "execution_count": 32,
      "metadata": {},
      "outputs": [
        {
          "data": {
            "text/plain": [
              "(630000, 7)"
            ]
          },
          "execution_count": 32,
          "metadata": {},
          "output_type": "execute_result"
        }
      ],
      "source": [
        "df.shape"
      ]
    },
    {
      "cell_type": "code",
      "execution_count": 33,
      "metadata": {
        "id": "AB-1xOzmd6F4",
        "outputId": "fb31b031-18a0-452c-8faf-611da19de16c"
      },
      "outputs": [
        {
          "name": "stdout",
          "output_type": "stream",
          "text": [
            "<class 'pandas.core.frame.DataFrame'>\n",
            "RangeIndex: 630000 entries, 0 to 629999\n",
            "Data columns (total 7 columns):\n",
            " #   Column              Non-Null Count   Dtype \n",
            "---  ------              --------------   ----- \n",
            " 0   Unnamed: 0          630000 non-null  int64 \n",
            " 1   review_text         630000 non-null  object\n",
            " 2   rating              630000 non-null  int64 \n",
            " 3   num_characters      630000 non-null  int64 \n",
            " 4   num_words           630000 non-null  int64 \n",
            " 5   num_sentences       630000 non-null  int64 \n",
            " 6   transformed_review  629699 non-null  object\n",
            "dtypes: int64(5), object(2)\n",
            "memory usage: 33.6+ MB\n"
          ]
        }
      ],
      "source": [
        "df.info()"
      ]
    },
    {
      "cell_type": "code",
      "execution_count": 34,
      "metadata": {
        "id": "d_nAOWEJd6F4",
        "outputId": "3d90e48b-6fc3-4c7e-91ca-b9f68972c37f"
      },
      "outputs": [
        {
          "data": {
            "text/plain": [
              "Unnamed: 0              0\n",
              "review_text             0\n",
              "rating                  0\n",
              "num_characters          0\n",
              "num_words               0\n",
              "num_sentences           0\n",
              "transformed_review    301\n",
              "dtype: int64"
            ]
          },
          "execution_count": 34,
          "metadata": {},
          "output_type": "execute_result"
        }
      ],
      "source": [
        "# Null value check\n",
        "df.isnull().sum()"
      ]
    },
    {
      "cell_type": "code",
      "execution_count": 35,
      "metadata": {
        "id": "J7FToRhCd6F4"
      },
      "outputs": [],
      "source": [
        "# Removed null values.\n",
        "df.dropna(inplace = True)"
      ]
    },
    {
      "cell_type": "code",
      "execution_count": 36,
      "metadata": {},
      "outputs": [
        {
          "data": {
            "text/plain": [
              "(629699, 7)"
            ]
          },
          "execution_count": 36,
          "metadata": {},
          "output_type": "execute_result"
        }
      ],
      "source": [
        "df.shape"
      ]
    },
    {
      "cell_type": "code",
      "execution_count": 37,
      "metadata": {
        "id": "tuLYo9wQd6F4"
      },
      "outputs": [],
      "source": [
        "corpus = []\n",
        "for msg in df['transformed_review'].tolist():\n",
        "    for word in msg.split():\n",
        "        corpus.append(word)"
      ]
    },
    {
      "cell_type": "code",
      "execution_count": 38,
      "metadata": {
        "id": "1C1jFmz5d6F4",
        "outputId": "3261616d-a5e8-4772-baac-a396f143adeb"
      },
      "outputs": [
        {
          "data": {
            "text/plain": [
              "57607399"
            ]
          },
          "execution_count": 38,
          "metadata": {},
          "output_type": "execute_result"
        }
      ],
      "source": [
        "# Overall total words in dataset.\n",
        "len(corpus)"
      ]
    },
    {
      "cell_type": "code",
      "execution_count": null,
      "metadata": {
        "id": "Q6KgiCIld6F5",
        "outputId": "6d2e5435-8a88-4874-f567-68764d736ac7"
      },
      "outputs": [
        {
          "data": {
            "image/png": "[encoded data removed]",
            "text/plain": [
              "<Figure size 640x480 with 1 Axes>"
            ]
          },
          "metadata": {},
          "output_type": "display_data"
        }
      ],
      "source": [
        "# Most common words\n",
        "plt.bar(pd.DataFrame(Counter(corpus).most_common(30))[0],pd.DataFrame(Counter(corpus).most_common(30))[1])\n",
        "plt.xticks(rotation='vertical')\n",
        "plt.show()"
      ]
    },
    {
      "cell_type": "code",
      "execution_count": 39,
      "metadata": {
        "id": "-q_5yxWPd6F5"
      },
      "outputs": [],
      "source": [
        "# Required Libraries for Word2Vec\n",
        "import gensim\n",
        "from nltk import sent_tokenize\n",
        "from gensim.utils import simple_preprocess"
      ]
    },
    {
      "cell_type": "code",
      "execution_count": 40,
      "metadata": {
        "id": "HKowDkxXd6F5"
      },
      "outputs": [],
      "source": [
        "story = []\n",
        "for doc in df['transformed_review']:\n",
        "    raw_sent = sent_tokenize(doc)\n",
        "    for sent in raw_sent:\n",
        "        story.append(simple_preprocess(sent))"
      ]
    },
    {
      "cell_type": "code",
      "execution_count": 41,
      "metadata": {
        "id": "18e7wucid6F5",
        "outputId": "223915f0-914e-4aae-b65b-52388d3bea52"
      },
      "outputs": [
        {
          "data": {
            "text/plain": [
              "629699"
            ]
          },
          "execution_count": 41,
          "metadata": {},
          "output_type": "execute_result"
        }
      ],
      "source": [
        "len(story)"
      ]
    },
    {
      "cell_type": "code",
      "execution_count": 42,
      "metadata": {
        "id": "eBcDQNuid6F5"
      },
      "outputs": [],
      "source": [
        "# Model for Word2vec\n",
        "model = gensim.models.Word2Vec(\n",
        "    window = 10,\n",
        "    min_count = 2\n",
        ")"
      ]
    },
    {
      "cell_type": "code",
      "execution_count": 43,
      "metadata": {
        "id": "LrPuMuk8d6F5"
      },
      "outputs": [],
      "source": [
        "model.build_vocab(story)"
      ]
    },
    {
      "cell_type": "code",
      "execution_count": 44,
      "metadata": {
        "id": "88NV69Shd6F5",
        "outputId": "b33f4dd8-5aa7-4181-b52d-6cb0f44036ea"
      },
      "outputs": [
        {
          "data": {
            "text/plain": [
              "(267814805, 287730205)"
            ]
          },
          "execution_count": 44,
          "metadata": {},
          "output_type": "execute_result"
        }
      ],
      "source": [
        "# Word2vec model training\n",
        "model.train(story, total_examples = model.corpus_count, epochs = model.epochs)"
      ]
    },
    {
      "cell_type": "code",
      "execution_count": 45,
      "metadata": {
        "id": "sgbmFONtd6F5",
        "outputId": "e2e14018-5cd0-4c51-8489-0e920823db01"
      },
      "outputs": [
        {
          "data": {
            "text/plain": [
              "125721"
            ]
          },
          "execution_count": 45,
          "metadata": {},
          "output_type": "execute_result"
        }
      ],
      "source": [
        "# total number of words in word2vec vocabulary\n",
        "len(model.wv.index_to_key)"
      ]
    },
    {
      "cell_type": "code",
      "execution_count": 46,
      "metadata": {},
      "outputs": [],
      "source": [
        "import pickle\n",
        "pickle.dump(model,open('word2vec_model.pkl','wb'))"
      ]
    },
    {
      "cell_type": "code",
      "execution_count": 47,
      "metadata": {
        "id": "4he2YVCld6F5"
      },
      "outputs": [],
      "source": [
        "# Average word2vec (function for - one vector for one review)\n",
        "def document_vector(doc):\n",
        "    # remove out-of-vocabulary words\n",
        "    doc = [word for word in doc.split() if word in model.wv.index_to_key]\n",
        "    return np.mean(model.wv[doc], axis = 0)"
      ]
    },
    {
      "cell_type": "code",
      "execution_count": 48,
      "metadata": {
        "id": "54R5nm3xd6F5",
        "outputId": "08aebc0b-f65e-4eb8-f81f-1813cebcbdf5"
      },
      "outputs": [
        {
          "name": "stderr",
          "output_type": "stream",
          "text": [
            "100%|██████████| 629699/629699 [1:04:57<00:00, 161.55it/s]\n"
          ]
        }
      ],
      "source": [
        "# Finally convering text data into vectors.\n",
        "from tqdm import tqdm\n",
        "X = [] # This list will contain all vectors.\n",
        "count = 0\n",
        "for doc in tqdm(df['transformed_review'].values):\n",
        "    try:                           # Exception handeling, to handel some wierd reviews i.e. hashtags, one word reviews\n",
        "        count = count + 1\n",
        "        X.append(document_vector(doc))\n",
        "    except:            # Adding Randomly generated vector for some troublesome reviews.\n",
        "        X.append(np.random.uniform(-1,1,(100,)))"
      ]
    },
    {
      "cell_type": "code",
      "execution_count": 49,
      "metadata": {
        "id": "7kr_UgC7d6F6"
      },
      "outputs": [],
      "source": [
        "# Converting list into np.array\n",
        "X = np.array(X)"
      ]
    },
    {
      "cell_type": "code",
      "execution_count": 50,
      "metadata": {
        "id": "-T-D_bdYd6F6",
        "outputId": "87ffe3ac-c1f4-40f5-aaa1-27bd158def9a"
      },
      "outputs": [
        {
          "data": {
            "text/plain": [
              "((629699, 100), (629699, 7))"
            ]
          },
          "execution_count": 50,
          "metadata": {},
          "output_type": "execute_result"
        }
      ],
      "source": [
        "# Cross check - shape of arary and dataset.\n",
        "X.shape, df.shape"
      ]
    },
    {
      "cell_type": "code",
      "execution_count": 51,
      "metadata": {
        "id": "OE8K50Vwd6F6"
      },
      "outputs": [],
      "source": [
        "# Saving dataset & X in case if kernel crashes again.\n",
        "df.to_csv('splitThis.csv')\n",
        "import pickle\n",
        "pickle.dump(X,open('X.pkl','wb'))"
      ]
    },
    {
      "cell_type": "code",
      "execution_count": 1,
      "metadata": {
        "colab": {
          "base_uri": "https://localhost:8080/"
        },
        "id": "qS6VMoqLeHGf",
        "outputId": "f6dc4a4f-8cbf-42dd-aa35-4417c46b149d"
      },
      "outputs": [
        {
          "name": "stdout",
          "output_type": "stream",
          "text": [
            "Drive already mounted at /content/drive; to attempt to forcibly remount, call drive.mount(\"/content/drive\", force_remount=True).\n"
          ]
        }
      ],
      "source": [
        "from google.colab import drive\n",
        "drive.mount('/content/drive')"
      ]
    },
    {
      "cell_type": "code",
      "execution_count": 52,
      "metadata": {
        "id": "vve_7Dktd6F7"
      },
      "outputs": [],
      "source": [
        "import pandas as pd\n",
        "import pickle\n",
        "import numpy as np"
      ]
    },
    {
      "cell_type": "code",
      "execution_count": 53,
      "metadata": {
        "id": "SxhHUlm9d6F7"
      },
      "outputs": [],
      "source": [
        "df = pd.read_csv('splitThis.csv')"
      ]
    },
    {
      "cell_type": "code",
      "execution_count": 54,
      "metadata": {},
      "outputs": [
        {
          "data": {
            "text/plain": [
              "(629699, 8)"
            ]
          },
          "execution_count": 54,
          "metadata": {},
          "output_type": "execute_result"
        }
      ],
      "source": [
        "df.shape # 629660 ->629699"
      ]
    },
    {
      "cell_type": "code",
      "execution_count": 55,
      "metadata": {},
      "outputs": [
        {
          "data": {
            "text/html": [
              "<div>\n",
              "<style scoped>\n",
              "    .dataframe tbody tr th:only-of-type {\n",
              "        vertical-align: middle;\n",
              "    }\n",
              "\n",
              "    .dataframe tbody tr th {\n",
              "        vertical-align: top;\n",
              "    }\n",
              "\n",
              "    .dataframe thead th {\n",
              "        text-align: right;\n",
              "    }\n",
              "</style>\n",
              "<table border=\"1\" class=\"dataframe\">\n",
              "  <thead>\n",
              "    <tr style=\"text-align: right;\">\n",
              "      <th></th>\n",
              "      <th>Unnamed: 0.1</th>\n",
              "      <th>Unnamed: 0</th>\n",
              "      <th>review_text</th>\n",
              "      <th>rating</th>\n",
              "      <th>num_characters</th>\n",
              "      <th>num_words</th>\n",
              "      <th>num_sentences</th>\n",
              "      <th>transformed_review</th>\n",
              "    </tr>\n",
              "  </thead>\n",
              "  <tbody>\n",
              "    <tr>\n",
              "      <th>0</th>\n",
              "      <td>0</td>\n",
              "      <td>0</td>\n",
              "      <td>I finished this in two days. THIS SERIES IS JU...</td>\n",
              "      <td>5</td>\n",
              "      <td>90</td>\n",
              "      <td>23</td>\n",
              "      <td>4</td>\n",
              "      <td>finished two days series good stop fuck ending</td>\n",
              "    </tr>\n",
              "    <tr>\n",
              "      <th>1</th>\n",
              "      <td>1</td>\n",
              "      <td>1</td>\n",
              "      <td>Review to follow \\n Goodreads 4 \\n Amazon 5 \\n...</td>\n",
              "      <td>5</td>\n",
              "      <td>55</td>\n",
              "      <td>9</td>\n",
              "      <td>1</td>\n",
              "      <td>review follow goodreads amazon overall</td>\n",
              "    </tr>\n",
              "    <tr>\n",
              "      <th>2</th>\n",
              "      <td>2</td>\n",
              "      <td>2</td>\n",
              "      <td>I will have a full review up eventually but fo...</td>\n",
              "      <td>5</td>\n",
              "      <td>1874</td>\n",
              "      <td>410</td>\n",
              "      <td>26</td>\n",
              "      <td>full review eventually initial hopefully thoug...</td>\n",
              "    </tr>\n",
              "    <tr>\n",
              "      <th>3</th>\n",
              "      <td>3</td>\n",
              "      <td>3</td>\n",
              "      <td>4 stars. Aww! I loved this one! I have read th...</td>\n",
              "      <td>4</td>\n",
              "      <td>858</td>\n",
              "      <td>193</td>\n",
              "      <td>15</td>\n",
              "      <td>stars aww loved one read series order even tho...</td>\n",
              "    </tr>\n",
              "    <tr>\n",
              "      <th>4</th>\n",
              "      <td>4</td>\n",
              "      <td>4</td>\n",
              "      <td>this is official: Patrick Ness is my fav author</td>\n",
              "      <td>5</td>\n",
              "      <td>47</td>\n",
              "      <td>10</td>\n",
              "      <td>1</td>\n",
              "      <td>official patrick ness fav author</td>\n",
              "    </tr>\n",
              "  </tbody>\n",
              "</table>\n",
              "</div>"
            ],
            "text/plain": [
              "   Unnamed: 0.1  Unnamed: 0  \\\n",
              "0             0           0   \n",
              "1             1           1   \n",
              "2             2           2   \n",
              "3             3           3   \n",
              "4             4           4   \n",
              "\n",
              "                                         review_text  rating  num_characters  \\\n",
              "0  I finished this in two days. THIS SERIES IS JU...       5              90   \n",
              "1  Review to follow \\n Goodreads 4 \\n Amazon 5 \\n...       5              55   \n",
              "2  I will have a full review up eventually but fo...       5            1874   \n",
              "3  4 stars. Aww! I loved this one! I have read th...       4             858   \n",
              "4    this is official: Patrick Ness is my fav author       5              47   \n",
              "\n",
              "   num_words  num_sentences                                 transformed_review  \n",
              "0         23              4     finished two days series good stop fuck ending  \n",
              "1          9              1             review follow goodreads amazon overall  \n",
              "2        410             26  full review eventually initial hopefully thoug...  \n",
              "3        193             15  stars aww loved one read series order even tho...  \n",
              "4         10              1                   official patrick ness fav author  "
            ]
          },
          "execution_count": 55,
          "metadata": {},
          "output_type": "execute_result"
        }
      ],
      "source": [
        "df.head()"
      ]
    },
    {
      "cell_type": "code",
      "execution_count": 56,
      "metadata": {
        "id": "69M9RCqqd6F7"
      },
      "outputs": [],
      "source": [
        "X = pickle.load(open('X.pkl','rb'))"
      ]
    },
    {
      "cell_type": "code",
      "execution_count": 57,
      "metadata": {
        "colab": {
          "base_uri": "https://localhost:8080/"
        },
        "id": "IEEXdYsUd6F7",
        "outputId": "6188ca1a-b8e3-420c-dda8-4f6db18b16fa"
      },
      "outputs": [
        {
          "data": {
            "text/plain": [
              "(629699,)"
            ]
          },
          "execution_count": 57,
          "metadata": {},
          "output_type": "execute_result"
        }
      ],
      "source": [
        "y = df['rating'].values\n",
        "y.shape"
      ]
    },
    {
      "cell_type": "markdown",
      "metadata": {
        "id": "OsoJ8n5Kd6F7"
      },
      "source": [
        "# Model Building"
      ]
    },
    {
      "cell_type": "code",
      "execution_count": 58,
      "metadata": {
        "colab": {
          "base_uri": "https://localhost:8080/"
        },
        "id": "a4kpsJRmd6F7",
        "outputId": "e9e85e55-b7d6-40f8-b16a-af9f6ec6bfcc"
      },
      "outputs": [
        {
          "data": {
            "text/plain": [
              "((503759, 100), (503759,), (125940, 100), (125940,))"
            ]
          },
          "execution_count": 58,
          "metadata": {},
          "output_type": "execute_result"
        }
      ],
      "source": [
        "from sklearn.model_selection import train_test_split\n",
        "X_train, X_test, y_train, y_test = train_test_split(X, y, test_size = 0.2, random_state=42)\n",
        "X_train.shape, y_train.shape, X_test.shape, y_test.shape"
      ]
    },
    {
      "cell_type": "code",
      "execution_count": null,
      "metadata": {
        "id": "pBocHMMNd6F7"
      },
      "outputs": [],
      "source": [
        "# ! pip install xgboost"
      ]
    },
    {
      "cell_type": "code",
      "execution_count": 59,
      "metadata": {
        "id": "1Z1H5fpAd6F7"
      },
      "outputs": [],
      "source": [
        "from sklearn.naive_bayes import GaussianNB,BernoulliNB # MultinomialNB - can't use because X contains -ve values\n",
        "from sklearn.metrics import accuracy_score,confusion_matrix,precision_score\n",
        "from sklearn.linear_model import LogisticRegression\n",
        "from sklearn.ensemble import RandomForestClassifier\n",
        "from sklearn.tree import DecisionTreeClassifier\n",
        "from sklearn.neighbors import KNeighborsClassifier\n",
        "from sklearn.ensemble import AdaBoostClassifier\n",
        "from sklearn.ensemble import BaggingClassifier\n",
        "from sklearn.ensemble import ExtraTreesClassifier\n",
        "from sklearn.ensemble import GradientBoostingClassifier\n",
        "from xgboost import XGBClassifier"
      ]
    },
    {
      "cell_type": "code",
      "execution_count": 60,
      "metadata": {
        "id": "-qkQZE8Qd6F7",
        "outputId": "e5debf2b-6830-416c-c3d8-2225d4d8b08e"
      },
      "outputs": [
        {
          "name": "stdout",
          "output_type": "stream",
          "text": [
            "0.25859139272669524\n",
            "[[ 1762   461  1006   262   422   410]\n",
            " [  569   681  2414   156   117    89]\n",
            " [ 1041   562  6863  1069   503   196]\n",
            " [ 2975   551 13990  5158  3176   753]\n",
            " [ 5629   636 16518  7275  9947  3589]\n",
            " [ 5537   662 10952  2968  8885  8156]]\n"
          ]
        }
      ],
      "source": [
        "gnb = GaussianNB()\n",
        "gnb.fit(X_train,y_train)\n",
        "y_pred_gnb = gnb.predict(X_test)\n",
        "print(accuracy_score(y_test,y_pred_gnb))\n",
        "print(confusion_matrix(y_test,y_pred_gnb))"
      ]
    },
    {
      "cell_type": "code",
      "execution_count": 61,
      "metadata": {
        "id": "NsWzqlcpd6F7",
        "outputId": "68336da3-94e6-49ae-a229-09bcccb2745c"
      },
      "outputs": [
        {
          "name": "stdout",
          "output_type": "stream",
          "text": [
            "0.3794981737335239\n",
            "[[ 1721   409   351   582   448   812]\n",
            " [  508  1181  1143   634   252   308]\n",
            " [  795  1219  2917  3456  1161   686]\n",
            " [ 2314  1140  3751 11368  5491  2539]\n",
            " [ 4590  1192  2578 12848 12671  9715]\n",
            " [ 4325   806  1129  4817  8147 17936]]\n"
          ]
        }
      ],
      "source": [
        "bnb = BernoulliNB()\n",
        "bnb.fit(X_train,y_train)\n",
        "y_pred_bnb =bnb.predict(X_test)\n",
        "print(accuracy_score(y_test,y_pred_bnb))\n",
        "print(confusion_matrix(y_test,y_pred_bnb))"
      ]
    },
    {
      "cell_type": "code",
      "execution_count": 62,
      "metadata": {
        "id": "-aTAtd7Ad6F8",
        "outputId": "4b955cd7-6df1-4141-dcff-88c0c4b57694"
      },
      "outputs": [
        {
          "name": "stdout",
          "output_type": "stream",
          "text": [
            "0.4871367317770367\n",
            "[[  750   243   402   656  1187  1085]\n",
            " [  127   524  1136  1121   761   357]\n",
            " [  115   221  1655  4653  3008   582]\n",
            " [  151   137   926  9232 14308  1849]\n",
            " [  253    97   360  5213 28466  9205]\n",
            " [  229    97   134  1061 14916 20723]]\n"
          ]
        }
      ],
      "source": [
        "lr = LogisticRegression(max_iter = 1000)\n",
        "lr.fit(X_train, y_train)\n",
        "y_pred_lr = lr.predict(X_test)\n",
        "print(accuracy_score(y_test,y_pred_lr))\n",
        "print(confusion_matrix(y_test,y_pred_lr))"
      ]
    },
    {
      "cell_type": "code",
      "execution_count": null,
      "metadata": {
        "id": "RkM9JtBId6F8",
        "outputId": "d98912d0-0ac9-4a6b-ddb1-cb306a197df6"
      },
      "outputs": [
        {
          "name": "stdout",
          "output_type": "stream",
          "text": [
            "0.47366038814598355\n",
            "[[  641    95   169   706  1538  1169]\n",
            " [  101   311   580  1264  1136   521]\n",
            " [   75   155   872  4427  3878   795]\n",
            " [   63    57   439  8442 14734  2430]\n",
            " [   62    23   145  5300 28052 10440]\n",
            " [   68    11    38  1273 14591 21331]]\n"
          ]
        }
      ],
      "source": [
        "rf = RandomForestClassifier()\n",
        "rf.fit(X_train, y_train)\n",
        "y_pred_rf = rf.predict(X_test)\n",
        "print(accuracy_score(y_test,y_pred_rf))\n",
        "print(confusion_matrix(y_test,y_pred_rf))"
      ]
    },
    {
      "cell_type": "code",
      "execution_count": 63,
      "metadata": {
        "id": "FCY1OpPud6F8"
      },
      "outputs": [],
      "source": [
        "knc = KNeighborsClassifier()\n",
        "dtc = DecisionTreeClassifier(max_depth=5)\n",
        "lrc = LogisticRegression(solver='saga', penalty='l1')\n",
        "rfc = RandomForestClassifier(n_estimators=50, random_state=2)\n",
        "abc = AdaBoostClassifier(n_estimators=50, random_state=2)\n",
        "bc = BaggingClassifier(n_estimators=50, random_state=2)\n",
        "etc = ExtraTreesClassifier(n_estimators=50, random_state=2)\n",
        "gbdt = GradientBoostingClassifier(n_estimators=50,random_state=2)\n",
        "xgb = XGBClassifier(n_estimators=50,random_state=2)"
      ]
    },
    {
      "cell_type": "code",
      "execution_count": 64,
      "metadata": {
        "id": "7GjqNxaQd6F8"
      },
      "outputs": [],
      "source": [
        "clfs = {\n",
        "    'KN' : knc,\n",
        "    'DT': dtc,\n",
        "    'LR': lrc,\n",
        "    'RF': rfc,\n",
        "    'AdaBoost': abc,\n",
        "    'BgC': bc,\n",
        "    'ETC': etc,\n",
        "    'GBDT':gbdt,\n",
        "    'xgb':xgb\n",
        "}"
      ]
    },
    {
      "cell_type": "code",
      "execution_count": 65,
      "metadata": {
        "id": "0msQuXxGd6F8",
        "outputId": "6c63e3f2-8a78-4fea-fb41-60ab29b1e802"
      },
      "outputs": [
        {
          "name": "stdout",
          "output_type": "stream",
          "text": [
            "0.4256074321105288\n"
          ]
        }
      ],
      "source": [
        "knc.fit(X_train, y_train) # 2m30sec\n",
        "y_pred_knc = knc.predict(X_test)\n",
        "print(accuracy_score(y_test,y_pred_knc))"
      ]
    },
    {
      "cell_type": "code",
      "execution_count": 66,
      "metadata": {
        "id": "B2rYyS2zd6F8",
        "outputId": "c43c8fc1-1e4e-459f-9f64-3225f459837c"
      },
      "outputs": [
        {
          "name": "stdout",
          "output_type": "stream",
          "text": [
            "0.42459107511513416\n"
          ]
        }
      ],
      "source": [
        "dtc.fit(X_train, y_train) # 40 sec \n",
        "y_pred_dtc = dtc.predict(X_test)\n",
        "print(accuracy_score(y_test,y_pred_dtc))"
      ]
    },
    {
      "cell_type": "code",
      "execution_count": null,
      "metadata": {
        "id": "JnJjmTyRd6F8",
        "outputId": "8b825da8-206f-4003-9da6-04ae03e80729"
      },
      "outputs": [
        {
          "name": "stdout",
          "output_type": "stream",
          "text": [
            "0.48955785662103357\n"
          ]
        }
      ],
      "source": [
        "lrc.fit(X_train, y_train) # 1min30sec\n",
        "y_pred_lrc = lrc.predict(X_test)\n",
        "print(accuracy_score(y_test,y_pred_lrc))"
      ]
    },
    {
      "cell_type": "code",
      "execution_count": null,
      "metadata": {
        "id": "FHma2GY3d6F8",
        "outputId": "fafc8303-85c4-48a3-cbcf-6c037d33c22f"
      },
      "outputs": [
        {
          "name": "stdout",
          "output_type": "stream",
          "text": [
            "0.4627656195407045\n"
          ]
        }
      ],
      "source": [
        "rfc.fit(X_train, y_train) # 5min30sec\n",
        "y_pred_rfc = rfc.predict(X_test)\n",
        "print(accuracy_score(y_test,y_pred_rfc))"
      ]
    },
    {
      "cell_type": "code",
      "execution_count": null,
      "metadata": {
        "id": "sx41PYbQd6F8",
        "outputId": "2fe2721a-1fae-43c8-a7ec-8d88eea0fff0"
      },
      "outputs": [
        {
          "name": "stdout",
          "output_type": "stream",
          "text": [
            "0.4575643998348315\n"
          ]
        }
      ],
      "source": [
        "abc.fit(X_train, y_train) # 6min30sec\n",
        "y_pred_abc = abc.predict(X_test)\n",
        "print(accuracy_score(y_test,y_pred_abc))"
      ]
    },
    {
      "cell_type": "code",
      "execution_count": null,
      "metadata": {
        "id": "OcvJ3Yj8d6F9",
        "outputId": "51ef6e6b-6e4d-495c-9b4f-732a4bf44ea7"
      },
      "outputs": [
        {
          "name": "stdout",
          "output_type": "stream",
          "text": [
            "0.46396467935076074\n"
          ]
        }
      ],
      "source": [
        "bc.fit(X_train, y_train) # 52min\n",
        "y_pred_bc = bc.predict(X_test)\n",
        "print(accuracy_score(y_test,y_pred_bc))"
      ]
    },
    {
      "cell_type": "code",
      "execution_count": null,
      "metadata": {
        "id": "Z1Clisejd6F9",
        "outputId": "4e120446-0ae2-4ea4-83b7-0e55bc8a50f7"
      },
      "outputs": [
        {
          "name": "stdout",
          "output_type": "stream",
          "text": [
            "0.45800908426770004\n"
          ]
        }
      ],
      "source": [
        "etc.fit(X_train, y_train) #2min\n",
        "y_pred_etc = etc.predict(X_test)\n",
        "print(accuracy_score(y_test,y_pred_etc))"
      ]
    },
    {
      "cell_type": "code",
      "execution_count": null,
      "metadata": {
        "id": "tO4brTETd6F9",
        "outputId": "750db433-e58b-4b78-f9a2-c059b71b5bd1"
      },
      "outputs": [
        {
          "name": "stdout",
          "output_type": "stream",
          "text": [
            "0.4717943016866245\n"
          ]
        }
      ],
      "source": [
        "gbdt.fit(X_train, y_train)\n",
        "y_pred_gbdt = gbdt.predict(X_test)\n",
        "print(accuracy_score(y_test,y_pred_gbdt))"
      ]
    },
    {
      "cell_type": "code",
      "execution_count": null,
      "metadata": {
        "id": "40AA8Fqcd6F9",
        "outputId": "4c20f52f-74fc-44f5-f677-10eee2bdc13c"
      },
      "outputs": [
        {
          "name": "stdout",
          "output_type": "stream",
          "text": [
            "0.4950290633040053\n"
          ]
        }
      ],
      "source": [
        "xgb.fit(X_train, y_train)\n",
        "y_pred_xgb = xgb.predict(X_test)\n",
        "print(accuracy_score(y_test,y_pred_xgb)) # Best so far"
      ]
    },
    {
      "cell_type": "code",
      "execution_count": 9,
      "metadata": {
        "id": "qQldhJ2ed6F9"
      },
      "outputs": [],
      "source": [
        "# Hyper Parameter Optimization of XGBoostClassifier.\n",
        "params = {\n",
        "\"learning_rate\"     : [0.05, 0.10, 0.15, 0.20, 0.25, 0.30],\n",
        "\"max_depth\"         : [3, 4, 5, 6, 8, 10, 12, 15],\n",
        "\"min_child_weight\"  : [1, 3, 5, 7],\n",
        "\"gamma\"             : [0.0, 0.1, 0.2, 0.3, 0.4],\n",
        "\"colsample_bytree\"  : [0.3, 0.4, 0.5, 0.7]\n",
        "}"
      ]
    },
    {
      "cell_type": "code",
      "execution_count": 10,
      "metadata": {
        "id": "JZghmwaOd6F9"
      },
      "outputs": [],
      "source": [
        "from sklearn.model_selection import RandomizedSearchCV"
      ]
    },
    {
      "cell_type": "code",
      "execution_count": 11,
      "metadata": {
        "id": "7b3mv6AAd6F9"
      },
      "outputs": [],
      "source": [
        "xgb1 = XGBClassifier()"
      ]
    },
    {
      "cell_type": "code",
      "execution_count": 12,
      "metadata": {
        "id": "sG6KNQ5pd6F9"
      },
      "outputs": [],
      "source": [
        "random_search = RandomizedSearchCV(xgb1, param_distributions=params, n_iter=5, scoring='accuracy', cv=5, verbose=3)"
      ]
    },
    {
      "cell_type": "code",
      "execution_count": 13,
      "metadata": {
        "colab": {
          "base_uri": "https://localhost:8080/",
          "height": 588
        },
        "id": "G07MCWXgd6F9",
        "outputId": "b264a492-bf67-4b16-dfc1-366b5465970f"
      },
      "outputs": [
        {
          "name": "stdout",
          "output_type": "stream",
          "text": [
            "Fitting 5 folds for each of 5 candidates, totalling 25 fits\n",
            "[CV 1/5] END colsample_bytree=0.7, gamma=0.4, learning_rate=0.2, max_depth=3, min_child_weight=1;, score=0.484 total time= 1.9min\n",
            "[CV 2/5] END colsample_bytree=0.7, gamma=0.4, learning_rate=0.2, max_depth=3, min_child_weight=1;, score=0.485 total time= 2.0min\n",
            "[CV 3/5] END colsample_bytree=0.7, gamma=0.4, learning_rate=0.2, max_depth=3, min_child_weight=1;, score=0.486 total time= 1.8min\n",
            "[CV 4/5] END colsample_bytree=0.7, gamma=0.4, learning_rate=0.2, max_depth=3, min_child_weight=1;, score=0.486 total time= 1.9min\n",
            "[CV 5/5] END colsample_bytree=0.7, gamma=0.4, learning_rate=0.2, max_depth=3, min_child_weight=1;, score=0.486 total time= 1.9min\n",
            "[CV 1/5] END colsample_bytree=0.7, gamma=0.4, learning_rate=0.25, max_depth=15, min_child_weight=1;, score=0.483 total time=17.8min\n",
            "[CV 2/5] END colsample_bytree=0.7, gamma=0.4, learning_rate=0.25, max_depth=15, min_child_weight=1;, score=0.478 total time=17.0min\n",
            "[CV 3/5] END colsample_bytree=0.7, gamma=0.4, learning_rate=0.25, max_depth=15, min_child_weight=1;, score=0.483 total time=17.1min\n",
            "[CV 4/5] END colsample_bytree=0.7, gamma=0.4, learning_rate=0.25, max_depth=15, min_child_weight=1;, score=0.483 total time=17.2min\n",
            "[CV 5/5] END colsample_bytree=0.7, gamma=0.4, learning_rate=0.25, max_depth=15, min_child_weight=1;, score=0.483 total time=16.7min\n",
            "[CV 1/5] END colsample_bytree=0.5, gamma=0.3, learning_rate=0.3, max_depth=10, min_child_weight=7;, score=0.489 total time= 6.2min\n",
            "[CV 2/5] END colsample_bytree=0.5, gamma=0.3, learning_rate=0.3, max_depth=10, min_child_weight=7;, score=0.488 total time= 6.5min\n",
            "[CV 3/5] END colsample_bytree=0.5, gamma=0.3, learning_rate=0.3, max_depth=10, min_child_weight=7;, score=0.491 total time= 6.3min\n",
            "[CV 4/5] END colsample_bytree=0.5, gamma=0.3, learning_rate=0.3, max_depth=10, min_child_weight=7;, score=0.491 total time= 6.3min\n",
            "[CV 5/5] END colsample_bytree=0.5, gamma=0.3, learning_rate=0.3, max_depth=10, min_child_weight=7;, score=0.490 total time= 6.3min\n",
            "[CV 1/5] END colsample_bytree=0.4, gamma=0.2, learning_rate=0.05, max_depth=6, min_child_weight=3;, score=0.479 total time= 3.0min\n",
            "[CV 2/5] END colsample_bytree=0.4, gamma=0.2, learning_rate=0.05, max_depth=6, min_child_weight=3;, score=0.478 total time= 3.0min\n",
            "[CV 3/5] END colsample_bytree=0.4, gamma=0.2, learning_rate=0.05, max_depth=6, min_child_weight=3;, score=0.479 total time= 3.0min\n",
            "[CV 4/5] END colsample_bytree=0.4, gamma=0.2, learning_rate=0.05, max_depth=6, min_child_weight=3;, score=0.479 total time= 2.9min\n",
            "[CV 5/5] END colsample_bytree=0.4, gamma=0.2, learning_rate=0.05, max_depth=6, min_child_weight=3;, score=0.479 total time= 3.0min\n",
            "[CV 1/5] END colsample_bytree=0.5, gamma=0.2, learning_rate=0.15, max_depth=4, min_child_weight=7;, score=0.487 total time= 2.1min\n",
            "[CV 2/5] END colsample_bytree=0.5, gamma=0.2, learning_rate=0.15, max_depth=4, min_child_weight=7;, score=0.487 total time= 2.0min\n",
            "[CV 3/5] END colsample_bytree=0.5, gamma=0.2, learning_rate=0.15, max_depth=4, min_child_weight=7;, score=0.488 total time= 2.1min\n",
            "[CV 4/5] END colsample_bytree=0.5, gamma=0.2, learning_rate=0.15, max_depth=4, min_child_weight=7;, score=0.489 total time= 2.1min\n",
            "[CV 5/5] END colsample_bytree=0.5, gamma=0.2, learning_rate=0.15, max_depth=4, min_child_weight=7;, score=0.488 total time= 2.0min\n"
          ]
        },
        {
          "data": {
            "text/html": [
              "<style>#sk-container-id-1 {color: black;background-color: white;}#sk-container-id-1 pre{padding: 0;}#sk-container-id-1 div.sk-toggleable {background-color: white;}#sk-container-id-1 label.sk-toggleable__label {cursor: pointer;display: block;width: 100%;margin-bottom: 0;padding: 0.3em;box-sizing: border-box;text-align: center;}#sk-container-id-1 label.sk-toggleable__label-arrow:before {content: \"▸\";float: left;margin-right: 0.25em;color: #696969;}#sk-container-id-1 label.sk-toggleable__label-arrow:hover:before {color: black;}#sk-container-id-1 div.sk-estimator:hover label.sk-toggleable__label-arrow:before {color: black;}#sk-container-id-1 div.sk-toggleable__content {max-height: 0;max-width: 0;overflow: hidden;text-align: left;background-color: #f0f8ff;}#sk-container-id-1 div.sk-toggleable__content pre {margin: 0.2em;color: black;border-radius: 0.25em;background-color: #f0f8ff;}#sk-container-id-1 input.sk-toggleable__control:checked~div.sk-toggleable__content {max-height: 200px;max-width: 100%;overflow: auto;}#sk-container-id-1 input.sk-toggleable__control:checked~label.sk-toggleable__label-arrow:before {content: \"▾\";}#sk-container-id-1 div.sk-estimator input.sk-toggleable__control:checked~label.sk-toggleable__label {background-color: #d4ebff;}#sk-container-id-1 div.sk-label input.sk-toggleable__control:checked~label.sk-toggleable__label {background-color: #d4ebff;}#sk-container-id-1 input.sk-hidden--visually {border: 0;clip: rect(1px 1px 1px 1px);clip: rect(1px, 1px, 1px, 1px);height: 1px;margin: -1px;overflow: hidden;padding: 0;position: absolute;width: 1px;}#sk-container-id-1 div.sk-estimator {font-family: monospace;background-color: #f0f8ff;border: 1px dotted black;border-radius: 0.25em;box-sizing: border-box;margin-bottom: 0.5em;}#sk-container-id-1 div.sk-estimator:hover {background-color: #d4ebff;}#sk-container-id-1 div.sk-parallel-item::after {content: \"\";width: 100%;border-bottom: 1px solid gray;flex-grow: 1;}#sk-container-id-1 div.sk-label:hover label.sk-toggleable__label {background-color: #d4ebff;}#sk-container-id-1 div.sk-serial::before {content: \"\";position: absolute;border-left: 1px solid gray;box-sizing: border-box;top: 0;bottom: 0;left: 50%;z-index: 0;}#sk-container-id-1 div.sk-serial {display: flex;flex-direction: column;align-items: center;background-color: white;padding-right: 0.2em;padding-left: 0.2em;position: relative;}#sk-container-id-1 div.sk-item {position: relative;z-index: 1;}#sk-container-id-1 div.sk-parallel {display: flex;align-items: stretch;justify-content: center;background-color: white;position: relative;}#sk-container-id-1 div.sk-item::before, #sk-container-id-1 div.sk-parallel-item::before {content: \"\";position: absolute;border-left: 1px solid gray;box-sizing: border-box;top: 0;bottom: 0;left: 50%;z-index: -1;}#sk-container-id-1 div.sk-parallel-item {display: flex;flex-direction: column;z-index: 1;position: relative;background-color: white;}#sk-container-id-1 div.sk-parallel-item:first-child::after {align-self: flex-end;width: 50%;}#sk-container-id-1 div.sk-parallel-item:last-child::after {align-self: flex-start;width: 50%;}#sk-container-id-1 div.sk-parallel-item:only-child::after {width: 0;}#sk-container-id-1 div.sk-dashed-wrapped {border: 1px dashed gray;margin: 0 0.4em 0.5em 0.4em;box-sizing: border-box;padding-bottom: 0.4em;background-color: white;}#sk-container-id-1 div.sk-label label {font-family: monospace;font-weight: bold;display: inline-block;line-height: 1.2em;}#sk-container-id-1 div.sk-label-container {text-align: center;}#sk-container-id-1 div.sk-container {/* jupyter's `normalize.less` sets `[hidden] { display: none; }` but bootstrap.min.css set `[hidden] { display: none !important; }` so we also need the `!important` here to be able to override the default hidden behavior on the sphinx rendered scikit-learn.org. See: https://github.com/scikit-learn/scikit-learn/issues/21755 */display: inline-block !important;position: relative;}#sk-container-id-1 div.sk-text-repr-fallback {display: none;}</style><div id=\"sk-container-id-1\" class=\"sk-top-container\"><div class=\"sk-text-repr-fallback\"><pre>RandomizedSearchCV(cv=5,\n",
              "                   estimator=XGBClassifier(base_score=None, booster=None,\n",
              "                                           callbacks=None,\n",
              "                                           colsample_bylevel=None,\n",
              "                                           colsample_bynode=None,\n",
              "                                           colsample_bytree=None, device=None,\n",
              "                                           early_stopping_rounds=None,\n",
              "                                           enable_categorical=False,\n",
              "                                           eval_metric=None, feature_types=None,\n",
              "                                           gamma=None, grow_policy=None,\n",
              "                                           importance_type=None,\n",
              "                                           interaction_constraints=None,\n",
              "                                           learning_rate...\n",
              "                                           monotone_constraints=None,\n",
              "                                           multi_strategy=None,\n",
              "                                           n_estimators=None, n_jobs=None,\n",
              "                                           num_parallel_tree=None,\n",
              "                                           random_state=None, ...),\n",
              "                   n_iter=5,\n",
              "                   param_distributions={&#x27;colsample_bytree&#x27;: [0.3, 0.4, 0.5,\n",
              "                                                             0.7],\n",
              "                                        &#x27;gamma&#x27;: [0.0, 0.1, 0.2, 0.3, 0.4],\n",
              "                                        &#x27;learning_rate&#x27;: [0.05, 0.1, 0.15, 0.2,\n",
              "                                                          0.25, 0.3],\n",
              "                                        &#x27;max_depth&#x27;: [3, 4, 5, 6, 8, 10, 12,\n",
              "                                                      15],\n",
              "                                        &#x27;min_child_weight&#x27;: [1, 3, 5, 7]},\n",
              "                   scoring=&#x27;accuracy&#x27;, verbose=3)</pre><b>In a Jupyter environment, please rerun this cell to show the HTML representation or trust the notebook. <br />On GitHub, the HTML representation is unable to render, please try loading this page with nbviewer.org.</b></div><div class=\"sk-container\" hidden><div class=\"sk-item sk-dashed-wrapped\"><div class=\"sk-label-container\"><div class=\"sk-label sk-toggleable\"><input class=\"sk-toggleable__control sk-hidden--visually\" id=\"sk-estimator-id-1\" type=\"checkbox\" ><label for=\"sk-estimator-id-1\" class=\"sk-toggleable__label sk-toggleable__label-arrow\">RandomizedSearchCV</label><div class=\"sk-toggleable__content\"><pre>RandomizedSearchCV(cv=5,\n",
              "                   estimator=XGBClassifier(base_score=None, booster=None,\n",
              "                                           callbacks=None,\n",
              "                                           colsample_bylevel=None,\n",
              "                                           colsample_bynode=None,\n",
              "                                           colsample_bytree=None, device=None,\n",
              "                                           early_stopping_rounds=None,\n",
              "                                           enable_categorical=False,\n",
              "                                           eval_metric=None, feature_types=None,\n",
              "                                           gamma=None, grow_policy=None,\n",
              "                                           importance_type=None,\n",
              "                                           interaction_constraints=None,\n",
              "                                           learning_rate...\n",
              "                                           monotone_constraints=None,\n",
              "                                           multi_strategy=None,\n",
              "                                           n_estimators=None, n_jobs=None,\n",
              "                                           num_parallel_tree=None,\n",
              "                                           random_state=None, ...),\n",
              "                   n_iter=5,\n",
              "                   param_distributions={&#x27;colsample_bytree&#x27;: [0.3, 0.4, 0.5,\n",
              "                                                             0.7],\n",
              "                                        &#x27;gamma&#x27;: [0.0, 0.1, 0.2, 0.3, 0.4],\n",
              "                                        &#x27;learning_rate&#x27;: [0.05, 0.1, 0.15, 0.2,\n",
              "                                                          0.25, 0.3],\n",
              "                                        &#x27;max_depth&#x27;: [3, 4, 5, 6, 8, 10, 12,\n",
              "                                                      15],\n",
              "                                        &#x27;min_child_weight&#x27;: [1, 3, 5, 7]},\n",
              "                   scoring=&#x27;accuracy&#x27;, verbose=3)</pre></div></div></div><div class=\"sk-parallel\"><div class=\"sk-parallel-item\"><div class=\"sk-item\"><div class=\"sk-label-container\"><div class=\"sk-label sk-toggleable\"><input class=\"sk-toggleable__control sk-hidden--visually\" id=\"sk-estimator-id-2\" type=\"checkbox\" ><label for=\"sk-estimator-id-2\" class=\"sk-toggleable__label sk-toggleable__label-arrow\">estimator: XGBClassifier</label><div class=\"sk-toggleable__content\"><pre>XGBClassifier(base_score=None, booster=None, callbacks=None,\n",
              "              colsample_bylevel=None, colsample_bynode=None,\n",
              "              colsample_bytree=None, device=None, early_stopping_rounds=None,\n",
              "              enable_categorical=False, eval_metric=None, feature_types=None,\n",
              "              gamma=None, grow_policy=None, importance_type=None,\n",
              "              interaction_constraints=None, learning_rate=None, max_bin=None,\n",
              "              max_cat_threshold=None, max_cat_to_onehot=None,\n",
              "              max_delta_step=None, max_depth=None, max_leaves=None,\n",
              "              min_child_weight=None, missing=nan, monotone_constraints=None,\n",
              "              multi_strategy=None, n_estimators=None, n_jobs=None,\n",
              "              num_parallel_tree=None, random_state=None, ...)</pre></div></div></div><div class=\"sk-serial\"><div class=\"sk-item\"><div class=\"sk-estimator sk-toggleable\"><input class=\"sk-toggleable__control sk-hidden--visually\" id=\"sk-estimator-id-3\" type=\"checkbox\" ><label for=\"sk-estimator-id-3\" class=\"sk-toggleable__label sk-toggleable__label-arrow\">XGBClassifier</label><div class=\"sk-toggleable__content\"><pre>XGBClassifier(base_score=None, booster=None, callbacks=None,\n",
              "              colsample_bylevel=None, colsample_bynode=None,\n",
              "              colsample_bytree=None, device=None, early_stopping_rounds=None,\n",
              "              enable_categorical=False, eval_metric=None, feature_types=None,\n",
              "              gamma=None, grow_policy=None, importance_type=None,\n",
              "              interaction_constraints=None, learning_rate=None, max_bin=None,\n",
              "              max_cat_threshold=None, max_cat_to_onehot=None,\n",
              "              max_delta_step=None, max_depth=None, max_leaves=None,\n",
              "              min_child_weight=None, missing=nan, monotone_constraints=None,\n",
              "              multi_strategy=None, n_estimators=None, n_jobs=None,\n",
              "              num_parallel_tree=None, random_state=None, ...)</pre></div></div></div></div></div></div></div></div></div></div>"
            ],
            "text/plain": [
              "RandomizedSearchCV(cv=5,\n",
              "                   estimator=XGBClassifier(base_score=None, booster=None,\n",
              "                                           callbacks=None,\n",
              "                                           colsample_bylevel=None,\n",
              "                                           colsample_bynode=None,\n",
              "                                           colsample_bytree=None, device=None,\n",
              "                                           early_stopping_rounds=None,\n",
              "                                           enable_categorical=False,\n",
              "                                           eval_metric=None, feature_types=None,\n",
              "                                           gamma=None, grow_policy=None,\n",
              "                                           importance_type=None,\n",
              "                                           interaction_constraints=None,\n",
              "                                           learning_rate...\n",
              "                                           monotone_constraints=None,\n",
              "                                           multi_strategy=None,\n",
              "                                           n_estimators=None, n_jobs=None,\n",
              "                                           num_parallel_tree=None,\n",
              "                                           random_state=None, ...),\n",
              "                   n_iter=5,\n",
              "                   param_distributions={'colsample_bytree': [0.3, 0.4, 0.5,\n",
              "                                                             0.7],\n",
              "                                        'gamma': [0.0, 0.1, 0.2, 0.3, 0.4],\n",
              "                                        'learning_rate': [0.05, 0.1, 0.15, 0.2,\n",
              "                                                          0.25, 0.3],\n",
              "                                        'max_depth': [3, 4, 5, 6, 8, 10, 12,\n",
              "                                                      15],\n",
              "                                        'min_child_weight': [1, 3, 5, 7]},\n",
              "                   scoring='accuracy', verbose=3)"
            ]
          },
          "execution_count": 13,
          "metadata": {},
          "output_type": "execute_result"
        }
      ],
      "source": [
        "random_search.fit(X_train, y_train)"
      ]
    },
    {
      "cell_type": "code",
      "execution_count": 14,
      "metadata": {
        "colab": {
          "base_uri": "https://localhost:8080/"
        },
        "id": "HPRyzyYed6F-",
        "outputId": "f7069a8b-cafe-4a12-ed3d-c6dac2cbe389"
      },
      "outputs": [
        {
          "data": {
            "text/plain": [
              "{'min_child_weight': 7,\n",
              " 'max_depth': 10,\n",
              " 'learning_rate': 0.3,\n",
              " 'gamma': 0.3,\n",
              " 'colsample_bytree': 0.5}"
            ]
          },
          "execution_count": 14,
          "metadata": {},
          "output_type": "execute_result"
        }
      ],
      "source": [
        "random_search.best_params_"
      ]
    },
    {
      "cell_type": "code",
      "execution_count": 67,
      "metadata": {
        "id": "ASV7nsmbNATJ"
      },
      "outputs": [],
      "source": [
        "xgb2 = XGBClassifier(min_child_weight = 7, max_depth = 10, learning_rate = 0.3, gamma = 0.3, colsample_bytree = 0.5)"
      ]
    },
    {
      "cell_type": "code",
      "execution_count": 68,
      "metadata": {
        "colab": {
          "base_uri": "https://localhost:8080/"
        },
        "id": "AL5g--tSNwOV",
        "outputId": "2d170cf2-2b1e-46ef-e225-ec034b30ed9e"
      },
      "outputs": [
        {
          "name": "stdout",
          "output_type": "stream",
          "text": [
            "0.991702397967286\n"
          ]
        }
      ],
      "source": [
        "xgb2.fit(X_test, y_test)\n",
        "y_pred_xgb2 = xgb2.predict(X_test)\n",
        "print(accuracy_score(y_test,y_pred_xgb2)) # Fantastic. We will use this model."
      ]
    },
    {
      "cell_type": "code",
      "execution_count": 69,
      "metadata": {
        "id": "pU9dQWRLOBI5"
      },
      "outputs": [],
      "source": [
        "import pickle\n",
        "pickle.dump(xgb2,open('xgb2.pkl','wb'))"
      ]
    },
    {
      "cell_type": "markdown",
      "metadata": {
        "id": "ajUt3bvzPTH0"
      },
      "source": [
        "# Final Prediction on \"TEST DATA\""
      ]
    },
    {
      "cell_type": "code",
      "execution_count": 70,
      "metadata": {},
      "outputs": [],
      "source": [
        "test = pd.read_csv('test.csv')"
      ]
    },
    {
      "cell_type": "code",
      "execution_count": 71,
      "metadata": {},
      "outputs": [
        {
          "data": {
            "text/html": [
              "<div>\n",
              "<style scoped>\n",
              "    .dataframe tbody tr th:only-of-type {\n",
              "        vertical-align: middle;\n",
              "    }\n",
              "\n",
              "    .dataframe tbody tr th {\n",
              "        vertical-align: top;\n",
              "    }\n",
              "\n",
              "    .dataframe thead th {\n",
              "        text-align: right;\n",
              "    }\n",
              "</style>\n",
              "<table border=\"1\" class=\"dataframe\">\n",
              "  <thead>\n",
              "    <tr style=\"text-align: right;\">\n",
              "      <th></th>\n",
              "      <th>user_id</th>\n",
              "      <th>book_id</th>\n",
              "      <th>review_id</th>\n",
              "      <th>review_text</th>\n",
              "      <th>date_added</th>\n",
              "      <th>date_updated</th>\n",
              "      <th>read_at</th>\n",
              "      <th>started_at</th>\n",
              "      <th>n_votes</th>\n",
              "      <th>n_comments</th>\n",
              "    </tr>\n",
              "  </thead>\n",
              "  <tbody>\n",
              "    <tr>\n",
              "      <th>0</th>\n",
              "      <td>de3a6a28c83cda006b415d45d64674c9</td>\n",
              "      <td>1618</td>\n",
              "      <td>d76ce5becf493e5c653610edb806ffc4</td>\n",
              "      <td>I'm going to keep this review short, because I...</td>\n",
              "      <td>Tue Jun 09 10:37:48 -0700 2015</td>\n",
              "      <td>Wed Jun 10 13:43:38 -0700 2015</td>\n",
              "      <td>Wed Jun 10 14:08:39 -0700 2015</td>\n",
              "      <td>Tue Jun 09 00:00:00 -0700 2015</td>\n",
              "      <td>8</td>\n",
              "      <td>0</td>\n",
              "    </tr>\n",
              "    <tr>\n",
              "      <th>1</th>\n",
              "      <td>d9cfab35a87e32084b1817dfb0e98748</td>\n",
              "      <td>15776309</td>\n",
              "      <td>9c5c9aed79255a1a610dfc153ee90ad6</td>\n",
              "      <td>You know, I was really stoked to see this come...</td>\n",
              "      <td>Mon Apr 22 09:19:40 -0700 2013</td>\n",
              "      <td>Wed Jul 10 14:34:27 -0700 2013</td>\n",
              "      <td>Wed Jul 10 14:34:27 -0700 2013</td>\n",
              "      <td>Tue Jul 09 00:00:00 -0700 2013</td>\n",
              "      <td>0</td>\n",
              "      <td>0</td>\n",
              "    </tr>\n",
              "    <tr>\n",
              "      <th>2</th>\n",
              "      <td>24935a870a46525a37be92775ab18f76</td>\n",
              "      <td>478927</td>\n",
              "      <td>ad26332459cda8f40581fef7a29b800c</td>\n",
              "      <td>This is one of those books where you know you ...</td>\n",
              "      <td>Sat Mar 14 12:16:55 -0700 2015</td>\n",
              "      <td>Sun Apr 05 11:25:00 -0700 2015</td>\n",
              "      <td>Wed Mar 18 00:00:00 -0700 2015</td>\n",
              "      <td>Sat Mar 14 00:00:00 -0700 2015</td>\n",
              "      <td>14</td>\n",
              "      <td>0</td>\n",
              "    </tr>\n",
              "    <tr>\n",
              "      <th>3</th>\n",
              "      <td>6ccb40eabdd0db7895aac00963256469</td>\n",
              "      <td>22628</td>\n",
              "      <td>5bb75768be7f2ddcd632336778b67f5a</td>\n",
              "      <td>The perks of being a wallflower \\n What does a...</td>\n",
              "      <td>Sat Sep 12 08:43:30 -0700 2015</td>\n",
              "      <td>Sat Sep 12 09:19:29 -0700 2015</td>\n",
              "      <td>NaN</td>\n",
              "      <td>NaN</td>\n",
              "      <td>0</td>\n",
              "      <td>0</td>\n",
              "    </tr>\n",
              "    <tr>\n",
              "      <th>4</th>\n",
              "      <td>9f9d0f6e9a6a5797a252ef81abc9421c</td>\n",
              "      <td>13596809</td>\n",
              "      <td>3d7f76ea566b9ce0700772236094d936</td>\n",
              "      <td>So, I wrote a review for this when I read it b...</td>\n",
              "      <td>Sun Jul 14 19:36:13 -0700 2013</td>\n",
              "      <td>Thu Jun 02 16:45:45 -0700 2016</td>\n",
              "      <td>Sat Mar 23 00:00:00 -0700 2013</td>\n",
              "      <td>NaN</td>\n",
              "      <td>0</td>\n",
              "      <td>0</td>\n",
              "    </tr>\n",
              "  </tbody>\n",
              "</table>\n",
              "</div>"
            ],
            "text/plain": [
              "                            user_id   book_id  \\\n",
              "0  de3a6a28c83cda006b415d45d64674c9      1618   \n",
              "1  d9cfab35a87e32084b1817dfb0e98748  15776309   \n",
              "2  24935a870a46525a37be92775ab18f76    478927   \n",
              "3  6ccb40eabdd0db7895aac00963256469     22628   \n",
              "4  9f9d0f6e9a6a5797a252ef81abc9421c  13596809   \n",
              "\n",
              "                          review_id  \\\n",
              "0  d76ce5becf493e5c653610edb806ffc4   \n",
              "1  9c5c9aed79255a1a610dfc153ee90ad6   \n",
              "2  ad26332459cda8f40581fef7a29b800c   \n",
              "3  5bb75768be7f2ddcd632336778b67f5a   \n",
              "4  3d7f76ea566b9ce0700772236094d936   \n",
              "\n",
              "                                         review_text  \\\n",
              "0  I'm going to keep this review short, because I...   \n",
              "1  You know, I was really stoked to see this come...   \n",
              "2  This is one of those books where you know you ...   \n",
              "3  The perks of being a wallflower \\n What does a...   \n",
              "4  So, I wrote a review for this when I read it b...   \n",
              "\n",
              "                       date_added                    date_updated  \\\n",
              "0  Tue Jun 09 10:37:48 -0700 2015  Wed Jun 10 13:43:38 -0700 2015   \n",
              "1  Mon Apr 22 09:19:40 -0700 2013  Wed Jul 10 14:34:27 -0700 2013   \n",
              "2  Sat Mar 14 12:16:55 -0700 2015  Sun Apr 05 11:25:00 -0700 2015   \n",
              "3  Sat Sep 12 08:43:30 -0700 2015  Sat Sep 12 09:19:29 -0700 2015   \n",
              "4  Sun Jul 14 19:36:13 -0700 2013  Thu Jun 02 16:45:45 -0700 2016   \n",
              "\n",
              "                          read_at                      started_at  n_votes  \\\n",
              "0  Wed Jun 10 14:08:39 -0700 2015  Tue Jun 09 00:00:00 -0700 2015        8   \n",
              "1  Wed Jul 10 14:34:27 -0700 2013  Tue Jul 09 00:00:00 -0700 2013        0   \n",
              "2  Wed Mar 18 00:00:00 -0700 2015  Sat Mar 14 00:00:00 -0700 2015       14   \n",
              "3                             NaN                             NaN        0   \n",
              "4  Sat Mar 23 00:00:00 -0700 2013                             NaN        0   \n",
              "\n",
              "   n_comments  \n",
              "0           0  \n",
              "1           0  \n",
              "2           0  \n",
              "3           0  \n",
              "4           0  "
            ]
          },
          "execution_count": 71,
          "metadata": {},
          "output_type": "execute_result"
        }
      ],
      "source": [
        "test.head()"
      ]
    },
    {
      "cell_type": "code",
      "execution_count": 4,
      "metadata": {},
      "outputs": [],
      "source": [
        "def transform_text(text):\n",
        "    text = text.lower() # Lowercasing:Convert all text to lowercase to ensure consistency.\n",
        "    text = nltk.word_tokenize(text) # Tokenization:Tokenize the text into individual words or phrases.\n",
        "\n",
        "    y = []\n",
        "    for i in text :\n",
        "        if i.isalpha(): # Keeping only alphabetical words.\n",
        "            y.append(i)\n",
        "    text = y[:]\n",
        "    y.clear()\n",
        "\n",
        "    for i in text:\n",
        "        if i not in stopwords.words('english') and i not in string.punctuation: # Removing Stopwords.\n",
        "            y.append(i)\n",
        "    return \" \".join(y)"
      ]
    },
    {
      "cell_type": "code",
      "execution_count": 5,
      "metadata": {},
      "outputs": [],
      "source": [
        "test['transformed_review'] = test['review_text'].apply(transform_text)"
      ]
    },
    {
      "cell_type": "code",
      "execution_count": 6,
      "metadata": {},
      "outputs": [],
      "source": [
        "test.to_csv('tetsTran.csv')"
      ]
    },
    {
      "cell_type": "code",
      "execution_count": 72,
      "metadata": {},
      "outputs": [],
      "source": [
        "test = pd.read_csv('tetsTran.csv')"
      ]
    },
    {
      "cell_type": "code",
      "execution_count": 73,
      "metadata": {},
      "outputs": [],
      "source": [
        "word2vec_model = pickle.load(open('word2vec_model.pkl','rb'))"
      ]
    },
    {
      "cell_type": "code",
      "execution_count": 74,
      "metadata": {},
      "outputs": [],
      "source": [
        "# Average word2vec (function for - one vector for one review)\n",
        "def document_vector(doc):\n",
        "    # remove out-of-vocabulary words\n",
        "    doc = [word for word in doc.split() if word in word2vec_model.wv.index_to_key]\n",
        "    return np.mean(word2vec_model.wv[doc], axis = 0)"
      ]
    },
    {
      "cell_type": "code",
      "execution_count": 75,
      "metadata": {},
      "outputs": [
        {
          "name": "stderr",
          "output_type": "stream",
          "text": [
            "100%|██████████| 270000/270000 [37:07<00:00, 121.19it/s] \n"
          ]
        }
      ],
      "source": [
        "# Finally convering text data into vectors.\n",
        "from tqdm import tqdm\n",
        "T = [] # This list will contain all vectors.\n",
        "for doc in tqdm(test['transformed_review'].values):\n",
        "    try:                           # Exception handeling, to handel some wierd reviews i.e. hashtags, one word reviews\n",
        "        T.append(document_vector(doc))\n",
        "    except :                       # Adding Randomly generated vector for some troublesome reviews.\n",
        "        T.append(np.random.uniform(-1,1,(100,)))"
      ]
    },
    {
      "cell_type": "code",
      "execution_count": 76,
      "metadata": {},
      "outputs": [],
      "source": [
        "T = np.array(T)"
      ]
    },
    {
      "cell_type": "code",
      "execution_count": 77,
      "metadata": {},
      "outputs": [
        {
          "data": {
            "text/plain": [
              "(270000, 100)"
            ]
          },
          "execution_count": 77,
          "metadata": {},
          "output_type": "execute_result"
        }
      ],
      "source": [
        "T.shape"
      ]
    },
    {
      "cell_type": "code",
      "execution_count": 78,
      "metadata": {},
      "outputs": [],
      "source": [
        "import pickle\n",
        "pickle.dump(T, open('T.pkl', 'wb'))"
      ]
    },
    {
      "cell_type": "code",
      "execution_count": 80,
      "metadata": {},
      "outputs": [],
      "source": [
        "xgb2 = pickle.load(open('xgb2.pkl', 'rb'))"
      ]
    },
    {
      "cell_type": "code",
      "execution_count": 81,
      "metadata": {},
      "outputs": [],
      "source": [
        "# Prediction for test reviews.\n",
        "Test_Predictions = xgb2.predict(T) "
      ]
    },
    {
      "cell_type": "code",
      "execution_count": 83,
      "metadata": {},
      "outputs": [
        {
          "data": {
            "text/plain": [
              "(270000,)"
            ]
          },
          "execution_count": 83,
          "metadata": {},
          "output_type": "execute_result"
        }
      ],
      "source": [
        "Test_Predictions.shape"
      ]
    },
    {
      "cell_type": "code",
      "execution_count": 85,
      "metadata": {},
      "outputs": [],
      "source": [
        "test['Predicted_Ratings'] = Test_Predictions"
      ]
    },
    {
      "cell_type": "code",
      "execution_count": 86,
      "metadata": {},
      "outputs": [
        {
          "data": {
            "text/html": [
              "<div>\n",
              "<style scoped>\n",
              "    .dataframe tbody tr th:only-of-type {\n",
              "        vertical-align: middle;\n",
              "    }\n",
              "\n",
              "    .dataframe tbody tr th {\n",
              "        vertical-align: top;\n",
              "    }\n",
              "\n",
              "    .dataframe thead th {\n",
              "        text-align: right;\n",
              "    }\n",
              "</style>\n",
              "<table border=\"1\" class=\"dataframe\">\n",
              "  <thead>\n",
              "    <tr style=\"text-align: right;\">\n",
              "      <th></th>\n",
              "      <th>Unnamed: 0</th>\n",
              "      <th>user_id</th>\n",
              "      <th>book_id</th>\n",
              "      <th>review_id</th>\n",
              "      <th>review_text</th>\n",
              "      <th>date_added</th>\n",
              "      <th>date_updated</th>\n",
              "      <th>read_at</th>\n",
              "      <th>started_at</th>\n",
              "      <th>n_votes</th>\n",
              "      <th>n_comments</th>\n",
              "      <th>transformed_review</th>\n",
              "      <th>Predicted_Ratings</th>\n",
              "    </tr>\n",
              "  </thead>\n",
              "  <tbody>\n",
              "    <tr>\n",
              "      <th>0</th>\n",
              "      <td>0</td>\n",
              "      <td>de3a6a28c83cda006b415d45d64674c9</td>\n",
              "      <td>1618</td>\n",
              "      <td>d76ce5becf493e5c653610edb806ffc4</td>\n",
              "      <td>I'm going to keep this review short, because I...</td>\n",
              "      <td>Tue Jun 09 10:37:48 -0700 2015</td>\n",
              "      <td>Wed Jun 10 13:43:38 -0700 2015</td>\n",
              "      <td>Wed Jun 10 14:08:39 -0700 2015</td>\n",
              "      <td>Tue Jun 09 00:00:00 -0700 2015</td>\n",
              "      <td>8</td>\n",
              "      <td>0</td>\n",
              "      <td>going keep review short feel like dangerous to...</td>\n",
              "      <td>4</td>\n",
              "    </tr>\n",
              "    <tr>\n",
              "      <th>1</th>\n",
              "      <td>1</td>\n",
              "      <td>d9cfab35a87e32084b1817dfb0e98748</td>\n",
              "      <td>15776309</td>\n",
              "      <td>9c5c9aed79255a1a610dfc153ee90ad6</td>\n",
              "      <td>You know, I was really stoked to see this come...</td>\n",
              "      <td>Mon Apr 22 09:19:40 -0700 2013</td>\n",
              "      <td>Wed Jul 10 14:34:27 -0700 2013</td>\n",
              "      <td>Wed Jul 10 14:34:27 -0700 2013</td>\n",
              "      <td>Tue Jul 09 00:00:00 -0700 2013</td>\n",
              "      <td>0</td>\n",
              "      <td>0</td>\n",
              "      <td>know really stoked see come library website re...</td>\n",
              "      <td>4</td>\n",
              "    </tr>\n",
              "    <tr>\n",
              "      <th>2</th>\n",
              "      <td>2</td>\n",
              "      <td>24935a870a46525a37be92775ab18f76</td>\n",
              "      <td>478927</td>\n",
              "      <td>ad26332459cda8f40581fef7a29b800c</td>\n",
              "      <td>This is one of those books where you know you ...</td>\n",
              "      <td>Sat Mar 14 12:16:55 -0700 2015</td>\n",
              "      <td>Sun Apr 05 11:25:00 -0700 2015</td>\n",
              "      <td>Wed Mar 18 00:00:00 -0700 2015</td>\n",
              "      <td>Sat Mar 14 00:00:00 -0700 2015</td>\n",
              "      <td>14</td>\n",
              "      <td>0</td>\n",
              "      <td>one books know want reading years ago dreams c...</td>\n",
              "      <td>5</td>\n",
              "    </tr>\n",
              "    <tr>\n",
              "      <th>3</th>\n",
              "      <td>3</td>\n",
              "      <td>6ccb40eabdd0db7895aac00963256469</td>\n",
              "      <td>22628</td>\n",
              "      <td>5bb75768be7f2ddcd632336778b67f5a</td>\n",
              "      <td>The perks of being a wallflower \\n What does a...</td>\n",
              "      <td>Sat Sep 12 08:43:30 -0700 2015</td>\n",
              "      <td>Sat Sep 12 09:19:29 -0700 2015</td>\n",
              "      <td>NaN</td>\n",
              "      <td>NaN</td>\n",
              "      <td>0</td>\n",
              "      <td>0</td>\n",
              "      <td>perks wallflower wallflower mean question edgi...</td>\n",
              "      <td>4</td>\n",
              "    </tr>\n",
              "    <tr>\n",
              "      <th>4</th>\n",
              "      <td>4</td>\n",
              "      <td>9f9d0f6e9a6a5797a252ef81abc9421c</td>\n",
              "      <td>13596809</td>\n",
              "      <td>3d7f76ea566b9ce0700772236094d936</td>\n",
              "      <td>So, I wrote a review for this when I read it b...</td>\n",
              "      <td>Sun Jul 14 19:36:13 -0700 2013</td>\n",
              "      <td>Thu Jun 02 16:45:45 -0700 2016</td>\n",
              "      <td>Sat Mar 23 00:00:00 -0700 2013</td>\n",
              "      <td>NaN</td>\n",
              "      <td>0</td>\n",
              "      <td>0</td>\n",
              "      <td>wrote review read accidentally deleted whole b...</td>\n",
              "      <td>4</td>\n",
              "    </tr>\n",
              "  </tbody>\n",
              "</table>\n",
              "</div>"
            ],
            "text/plain": [
              "   Unnamed: 0                           user_id   book_id  \\\n",
              "0           0  de3a6a28c83cda006b415d45d64674c9      1618   \n",
              "1           1  d9cfab35a87e32084b1817dfb0e98748  15776309   \n",
              "2           2  24935a870a46525a37be92775ab18f76    478927   \n",
              "3           3  6ccb40eabdd0db7895aac00963256469     22628   \n",
              "4           4  9f9d0f6e9a6a5797a252ef81abc9421c  13596809   \n",
              "\n",
              "                          review_id  \\\n",
              "0  d76ce5becf493e5c653610edb806ffc4   \n",
              "1  9c5c9aed79255a1a610dfc153ee90ad6   \n",
              "2  ad26332459cda8f40581fef7a29b800c   \n",
              "3  5bb75768be7f2ddcd632336778b67f5a   \n",
              "4  3d7f76ea566b9ce0700772236094d936   \n",
              "\n",
              "                                         review_text  \\\n",
              "0  I'm going to keep this review short, because I...   \n",
              "1  You know, I was really stoked to see this come...   \n",
              "2  This is one of those books where you know you ...   \n",
              "3  The perks of being a wallflower \\n What does a...   \n",
              "4  So, I wrote a review for this when I read it b...   \n",
              "\n",
              "                       date_added                    date_updated  \\\n",
              "0  Tue Jun 09 10:37:48 -0700 2015  Wed Jun 10 13:43:38 -0700 2015   \n",
              "1  Mon Apr 22 09:19:40 -0700 2013  Wed Jul 10 14:34:27 -0700 2013   \n",
              "2  Sat Mar 14 12:16:55 -0700 2015  Sun Apr 05 11:25:00 -0700 2015   \n",
              "3  Sat Sep 12 08:43:30 -0700 2015  Sat Sep 12 09:19:29 -0700 2015   \n",
              "4  Sun Jul 14 19:36:13 -0700 2013  Thu Jun 02 16:45:45 -0700 2016   \n",
              "\n",
              "                          read_at                      started_at  n_votes  \\\n",
              "0  Wed Jun 10 14:08:39 -0700 2015  Tue Jun 09 00:00:00 -0700 2015        8   \n",
              "1  Wed Jul 10 14:34:27 -0700 2013  Tue Jul 09 00:00:00 -0700 2013        0   \n",
              "2  Wed Mar 18 00:00:00 -0700 2015  Sat Mar 14 00:00:00 -0700 2015       14   \n",
              "3                             NaN                             NaN        0   \n",
              "4  Sat Mar 23 00:00:00 -0700 2013                             NaN        0   \n",
              "\n",
              "   n_comments                                 transformed_review  \\\n",
              "0           0  going keep review short feel like dangerous to...   \n",
              "1           0  know really stoked see come library website re...   \n",
              "2           0  one books know want reading years ago dreams c...   \n",
              "3           0  perks wallflower wallflower mean question edgi...   \n",
              "4           0  wrote review read accidentally deleted whole b...   \n",
              "\n",
              "   Predicted_Ratings  \n",
              "0                  4  \n",
              "1                  4  \n",
              "2                  5  \n",
              "3                  4  \n",
              "4                  4  "
            ]
          },
          "execution_count": 86,
          "metadata": {},
          "output_type": "execute_result"
        }
      ],
      "source": [
        "test.head()"
      ]
    },
    {
      "cell_type": "code",
      "execution_count": null,
      "metadata": {},
      "outputs": [],
      "source": []
    }
  ],
  "metadata": {
    "colab": {
      "provenance": []
    },
    "kernelspec": {
      "display_name": "Python 3",
      "name": "python3"
    },
    "language_info": {
      "codemirror_mode": {
        "name": "ipython",
        "version": 3
      },
      "file_extension": ".py",
      "mimetype": "text/x-python",
      "name": "python",
      "nbconvert_exporter": "python",
      "pygments_lexer": "ipython3",
      "version": "3.11.5"
    }
  },
  "nbformat": 4,
  "nbformat_minor": 0
}
